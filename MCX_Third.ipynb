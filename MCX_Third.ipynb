{
 "cells": [
  {
   "cell_type": "markdown",
   "id": "f1454120",
   "metadata": {},
   "source": [
    "# Classiq Coding Competition Spring 2022\n",
    "### Third Place MCX Submission by Team Carnivorous Cacti \n",
    "### Tarushii Goel, Kareem Jaber, Cyril Sharma"
   ]
  },
  {
   "cell_type": "markdown",
   "metadata": {},
   "source": [
    "### DESCRIPTION\n",
    "\n",
    "Initially, we solely experimented with the optimal way to apply MCX gates on the ancillary qubits and relied on the qiskit transpiler to determine the circuit depth when MCX gates were decomposed into single qubit gates and CX gates. Our main strategy at this stage was to minimize the overlap between the bits used in the MCX gates, since MCX gates which don’t overlap can be executed simultaneously and have lower circuit depth. With this strategy we got a depth of 151 (see additional files for the approaches we tried, design #2 for our best approach). One observation we made is that assuming that all the ancillary bits are used, you will be used a total of 19 controls across 6 targets, so you must use at least one MCX gate with 4 controls (6*3 < 19). Optimizing the 4 control MCX gate was our main bottleneck. To improve our initial solutions we realized that the many of the MCX gates only had to be correct up to a relative phase, since we can remove the phase shift while uncomputing (https://arxiv.org/pdf/1508.03273.pdf). We used the relative phase toffoli-4 introduced in this paper and extended it to a relative phase toffoli-5 (see the function Rc4x()) and substituted the MCX gates (which in our previous implementation had 3 or 4 controls) with the relative phase versions. This approach achieved a final circuit depth of 71."
   ]
  },
  {
   "cell_type": "code",
   "execution_count": 1,
   "metadata": {},
   "outputs": [],
   "source": [
    "# Problem statement\n",
    "# 14 controls\n",
    "# 1 target\n",
    "# 5 auxilliary\n",
    "import qiskit\n",
    "from scipy.linalg import norm\n",
    "\n",
    "# importing Qiskit\n",
    "from qiskit import IBMQ, Aer, assemble, transpile, execute\n",
    "from qiskit import QuantumCircuit, ClassicalRegister, QuantumRegister\n",
    "# relative phase toffoli gate\n",
    "from qiskit.circuit.library import RC3XGate\n"
   ]
  },
  {
   "cell_type": "code",
   "execution_count": 2,
   "metadata": {},
   "outputs": [],
   "source": [
    "control_qubits = QuantumRegister(14, name=\"c\")\n",
    "target_qubit = QuantumRegister(1, name='t')\n",
    "ancilla_qubits = QuantumRegister(5, name='a')\n",
    "classical_bits = ClassicalRegister(1, name='out')"
   ]
  },
  {
   "cell_type": "code",
   "execution_count": 3,
   "metadata": {},
   "outputs": [
    {
     "data": {
      "text/html": [
       "<pre style=\"word-wrap: normal;white-space: pre;background: #fff0;line-height: 1.1;font-family: &quot;Courier New&quot;,Courier,monospace\">       ┌────────┐                                                         »\n",
       "  c_0: ┤0       ├─────────────────────────────────────────────────────────»\n",
       "       │        │                                                         »\n",
       "  c_1: ┤1       ├─────────────────────────────────────────────────────────»\n",
       "       │        │                                                         »\n",
       "  c_2: ┤2       ├─────────────────────────────────────────────────────────»\n",
       "       │        │┌────────┐                                               »\n",
       "  c_3: ┤        ├┤0       ├───────────────────────────────────────────────»\n",
       "       │        ││        │                                               »\n",
       "  c_4: ┤        ├┤1       ├───────────────────────────────────────────────»\n",
       "       │        ││        │                                               »\n",
       "  c_5: ┤        ├┤2       ├───────────────────────────────────────────────»\n",
       "       │        ││        │┌────────┐                                     »\n",
       "  c_6: ┤        ├┤        ├┤0       ├─────────────────────────────────────»\n",
       "       │        ││        ││        │                                     »\n",
       "  c_7: ┤        ├┤        ├┤1       ├─────────────────────────────────────»\n",
       "       │  Rcccx ││        ││        │                                     »\n",
       "  c_8: ┤        ├┤        ├┤2       ├─────────────────────────────────────»\n",
       "       │        ││        ││        │┌───────┐                            »\n",
       "  c_9: ┤        ├┤        ├┤        ├┤0      ├────────────────────────────»\n",
       "       │        ││  Rcccx ││        ││       │                            »\n",
       " c_10: ┤        ├┤        ├┤        ├┤1      ├────────────────────────────»\n",
       "       │        ││        ││        ││       │                            »\n",
       " c_11: ┤        ├┤        ├┤        ├┤2      ├────────────────────────────»\n",
       "       │        ││        ││  Rcccx ││       │                            »\n",
       " c_12: ┤        ├┤        ├┤        ├┤3      ├────────────────────────────»\n",
       "       │        ││        ││        ││       │┌────────┐     ┌───────────┐»\n",
       " c_13: ┤        ├┤        ├┤        ├┤       ├┤2       ├─────┤2          ├»\n",
       "       │        ││        ││        ││  Rc4x ││        │┌───┐│           │»\n",
       "    t: ┤        ├┤        ├┤        ├┤       ├┤        ├┤ X ├┤           ├»\n",
       "       │        ││        ││        ││       ││        │└─┬─┘│           │»\n",
       "  a_0: ┤3       ├┤        ├┤        ├┤       ├┤0       ├──┼──┤0          ├»\n",
       "       └────────┘│        ││        ││       ││        │  │  │           │»\n",
       "  a_1: ──────────┤3       ├┤        ├┤       ├┤1 Rcccx ├──┼──┤1 rcccx_dg ├»\n",
       "                 └────────┘│        ││       ││        │  │  │           │»\n",
       "  a_2: ────────────────────┤3       ├┤       ├┤        ├──■──┤           ├»\n",
       "                           └────────┘│       ││        │  │  │           │»\n",
       "  a_3: ──────────────────────────────┤4      ├┤        ├──■──┤           ├»\n",
       "                                     └───────┘│        │  │  │           │»\n",
       "  a_4: ───────────────────────────────────────┤3       ├──■──┤3          ├»\n",
       "                                              └────────┘     └───────────┘»\n",
       "out: 1/═══════════════════════════════════════════════════════════════════»\n",
       "                                                                          »\n",
       "«                                ┌───────────┐             \n",
       "«  c_0: ─────────────────────────┤0          ├─────────────\n",
       "«                                │           │             \n",
       "«  c_1: ─────────────────────────┤1          ├─────────────\n",
       "«                                │           │             \n",
       "«  c_2: ─────────────────────────┤2          ├─────────────\n",
       "«                                │           │┌───────────┐\n",
       "«  c_3: ─────────────────────────┤           ├┤0          ├\n",
       "«                                │           ││           │\n",
       "«  c_4: ─────────────────────────┤           ├┤1          ├\n",
       "«                                │           ││           │\n",
       "«  c_5: ─────────────────────────┤           ├┤2          ├\n",
       "«       ┌───────────┐            │           ││           │\n",
       "«  c_6: ┤0          ├────────────┤           ├┤           ├\n",
       "«       │           │            │           ││           │\n",
       "«  c_7: ┤1          ├────────────┤           ├┤           ├\n",
       "«       │           │            │  rcccx_dg ││           │\n",
       "«  c_8: ┤2          ├────────────┤           ├┤           ├\n",
       "«       │           │┌──────────┐│           ││           │\n",
       "«  c_9: ┤           ├┤0         ├┤           ├┤           ├\n",
       "«       │           ││          ││           ││  rcccx_dg │\n",
       "« c_10: ┤           ├┤1         ├┤           ├┤           ├\n",
       "«       │           ││          ││           ││           │\n",
       "« c_11: ┤           ├┤2         ├┤           ├┤           ├\n",
       "«       │  rcccx_dg ││          ││           ││           │\n",
       "« c_12: ┤           ├┤3         ├┤           ├┤           ├\n",
       "«       │           ││          ││           ││           │\n",
       "« c_13: ┤           ├┤          ├┤           ├┤           ├\n",
       "«       │           ││  Rc4x_dg ││           ││           │\n",
       "«    t: ┤           ├┤          ├┤           ├┤           ├\n",
       "«       │           ││          ││           ││           │\n",
       "«  a_0: ┤           ├┤          ├┤3          ├┤           ├\n",
       "«       │           ││          │└───────────┘│           │\n",
       "«  a_1: ┤           ├┤          ├─────────────┤3          ├\n",
       "«       │           ││          │             └───────────┘\n",
       "«  a_2: ┤3          ├┤          ├──────────────────────────\n",
       "«       └───────────┘│          │                          \n",
       "«  a_3: ─────────────┤4         ├──────────────────────────\n",
       "«                    └──────────┘                          \n",
       "«  a_4: ───────────────────────────────────────────────────\n",
       "«                                                          \n",
       "«out: 1/═══════════════════════════════════════════════════\n",
       "«                                                          </pre>"
      ],
      "text/plain": [
       "       ┌────────┐                                                         »\n",
       "  c_0: ┤0       ├─────────────────────────────────────────────────────────»\n",
       "       │        │                                                         »\n",
       "  c_1: ┤1       ├─────────────────────────────────────────────────────────»\n",
       "       │        │                                                         »\n",
       "  c_2: ┤2       ├─────────────────────────────────────────────────────────»\n",
       "       │        │┌────────┐                                               »\n",
       "  c_3: ┤        ├┤0       ├───────────────────────────────────────────────»\n",
       "       │        ││        │                                               »\n",
       "  c_4: ┤        ├┤1       ├───────────────────────────────────────────────»\n",
       "       │        ││        │                                               »\n",
       "  c_5: ┤        ├┤2       ├───────────────────────────────────────────────»\n",
       "       │        ││        │┌────────┐                                     »\n",
       "  c_6: ┤        ├┤        ├┤0       ├─────────────────────────────────────»\n",
       "       │        ││        ││        │                                     »\n",
       "  c_7: ┤        ├┤        ├┤1       ├─────────────────────────────────────»\n",
       "       │  Rcccx ││        ││        │                                     »\n",
       "  c_8: ┤        ├┤        ├┤2       ├─────────────────────────────────────»\n",
       "       │        ││        ││        │┌───────┐                            »\n",
       "  c_9: ┤        ├┤        ├┤        ├┤0      ├────────────────────────────»\n",
       "       │        ││  Rcccx ││        ││       │                            »\n",
       " c_10: ┤        ├┤        ├┤        ├┤1      ├────────────────────────────»\n",
       "       │        ││        ││        ││       │                            »\n",
       " c_11: ┤        ├┤        ├┤        ├┤2      ├────────────────────────────»\n",
       "       │        ││        ││  Rcccx ││       │                            »\n",
       " c_12: ┤        ├┤        ├┤        ├┤3      ├────────────────────────────»\n",
       "       │        ││        ││        ││       │┌────────┐     ┌───────────┐»\n",
       " c_13: ┤        ├┤        ├┤        ├┤       ├┤2       ├─────┤2          ├»\n",
       "       │        ││        ││        ││  Rc4x ││        │┌───┐│           │»\n",
       "    t: ┤        ├┤        ├┤        ├┤       ├┤        ├┤ X ├┤           ├»\n",
       "       │        ││        ││        ││       ││        │└─┬─┘│           │»\n",
       "  a_0: ┤3       ├┤        ├┤        ├┤       ├┤0       ├──┼──┤0          ├»\n",
       "       └────────┘│        ││        ││       ││        │  │  │           │»\n",
       "  a_1: ──────────┤3       ├┤        ├┤       ├┤1 Rcccx ├──┼──┤1 rcccx_dg ├»\n",
       "                 └────────┘│        ││       ││        │  │  │           │»\n",
       "  a_2: ────────────────────┤3       ├┤       ├┤        ├──■──┤           ├»\n",
       "                           └────────┘│       ││        │  │  │           │»\n",
       "  a_3: ──────────────────────────────┤4      ├┤        ├──■──┤           ├»\n",
       "                                     └───────┘│        │  │  │           │»\n",
       "  a_4: ───────────────────────────────────────┤3       ├──■──┤3          ├»\n",
       "                                              └────────┘     └───────────┘»\n",
       "out: 1/═══════════════════════════════════════════════════════════════════»\n",
       "                                                                          »\n",
       "«                                ┌───────────┐             \n",
       "«  c_0: ─────────────────────────┤0          ├─────────────\n",
       "«                                │           │             \n",
       "«  c_1: ─────────────────────────┤1          ├─────────────\n",
       "«                                │           │             \n",
       "«  c_2: ─────────────────────────┤2          ├─────────────\n",
       "«                                │           │┌───────────┐\n",
       "«  c_3: ─────────────────────────┤           ├┤0          ├\n",
       "«                                │           ││           │\n",
       "«  c_4: ─────────────────────────┤           ├┤1          ├\n",
       "«                                │           ││           │\n",
       "«  c_5: ─────────────────────────┤           ├┤2          ├\n",
       "«       ┌───────────┐            │           ││           │\n",
       "«  c_6: ┤0          ├────────────┤           ├┤           ├\n",
       "«       │           │            │           ││           │\n",
       "«  c_7: ┤1          ├────────────┤           ├┤           ├\n",
       "«       │           │            │  rcccx_dg ││           │\n",
       "«  c_8: ┤2          ├────────────┤           ├┤           ├\n",
       "«       │           │┌──────────┐│           ││           │\n",
       "«  c_9: ┤           ├┤0         ├┤           ├┤           ├\n",
       "«       │           ││          ││           ││  rcccx_dg │\n",
       "« c_10: ┤           ├┤1         ├┤           ├┤           ├\n",
       "«       │           ││          ││           ││           │\n",
       "« c_11: ┤           ├┤2         ├┤           ├┤           ├\n",
       "«       │  rcccx_dg ││          ││           ││           │\n",
       "« c_12: ┤           ├┤3         ├┤           ├┤           ├\n",
       "«       │           ││          ││           ││           │\n",
       "« c_13: ┤           ├┤          ├┤           ├┤           ├\n",
       "«       │           ││  Rc4x_dg ││           ││           │\n",
       "«    t: ┤           ├┤          ├┤           ├┤           ├\n",
       "«       │           ││          ││           ││           │\n",
       "«  a_0: ┤           ├┤          ├┤3          ├┤           ├\n",
       "«       │           ││          │└───────────┘│           │\n",
       "«  a_1: ┤           ├┤          ├─────────────┤3          ├\n",
       "«       │           ││          │             └───────────┘\n",
       "«  a_2: ┤3          ├┤          ├──────────────────────────\n",
       "«       └───────────┘│          │                          \n",
       "«  a_3: ─────────────┤4         ├──────────────────────────\n",
       "«                    └──────────┘                          \n",
       "«  a_4: ───────────────────────────────────────────────────\n",
       "«                                                          \n",
       "«out: 1/═══════════════════════════════════════════════════\n",
       "«                                                          "
      ]
     },
     "execution_count": 3,
     "metadata": {},
     "output_type": "execute_result"
    }
   ],
   "source": [
    "def Rc4x():\n",
    "    # relative phase toffoli-5 implementation\n",
    "    qc = QuantumCircuit(5)\n",
    "    qc.h(4)\n",
    "    qc.t(4)\n",
    "    qc.cx(3, 4)\n",
    "    qc.tdg(4)\n",
    "    qc.h(4)\n",
    "    qc.mcx([0, 1], 4)\n",
    "    qc.h(4)\n",
    "    qc.append(RC3XGate(), [0, 1, 2, 4])\n",
    "    # qc.mcx([0, 1, 2], 4)\n",
    "    qc.t(4)\n",
    "    qc.cx(3, 4)\n",
    "    qc.tdg(4)\n",
    "    qc.h(4)\n",
    "\n",
    "    rc4x = qc.to_gate()\n",
    "    rc4x.name = \"Rc4x\"\n",
    "    return rc4x\n",
    "\n",
    "qc = QuantumCircuit(control_qubits, target_qubit, ancilla_qubits, classical_bits)\n",
    "\n",
    "# qc.h(control_qubits[:14])\n",
    "# qc.x(target_qubit)\n",
    "\n",
    "for i in range(3):\n",
    "    qc.append(RC3XGate(), control_qubits[3*i:3*(i+1)]+ancilla_qubits[i:i+1])\n",
    "# 0 - 8\n",
    "qc.append(Rc4x(), control_qubits[9:13]+ancilla_qubits[3:4])\n",
    "\n",
    "qc.append(RC3XGate(), ancilla_qubits[0:2] + control_qubits[13:14] + ancilla_qubits[4:5])\n",
    "\n",
    "qc.mcx(ancilla_qubits[2:5], target_qubit[0])\n",
    "\n",
    "# # uncompute\n",
    "qc.append(RC3XGate().inverse(), ancilla_qubits[0:2] + control_qubits[13:14] + ancilla_qubits[4:5])\n",
    "for i in range(3):\n",
    "    qc.append(RC3XGate().inverse(), control_qubits[3*i:3*(i+1)]+ancilla_qubits[i:i+1])\n",
    "# # 0 - 8\n",
    "qc.append(Rc4x().inverse(), control_qubits[9:13]+ancilla_qubits[3:4])\n",
    "\n",
    "#qc.measure(target_qubit[0], classical_bits[0])\n",
    "\n",
    "qc.draw()"
   ]
  },
  {
   "cell_type": "code",
   "execution_count": 4,
   "metadata": {},
   "outputs": [
    {
     "name": "stdout",
     "output_type": "stream",
     "text": [
      "71\n",
      "OrderedDict([('u', 101), ('cx', 90)])\n"
     ]
    },
    {
     "data": {
      "text/plain": [
       "'OPENQASM 2.0;\\ninclude \"qelib1.inc\";\\nqreg c[14];\\nqreg t[1];\\nqreg a[5];\\ncreg out[1];\\nu(pi/2,pi/8,-pi) t[0];\\nu(pi/2,pi/4,-pi) a[0];\\ncx c[2],a[0];\\nu(pi/2,0,3*pi/4) a[0];\\ncx c[0],a[0];\\nu(0,0,pi/4) a[0];\\ncx c[1],a[0];\\nu(0,0,-pi/4) a[0];\\ncx c[0],a[0];\\nu(0,0,pi/4) a[0];\\ncx c[1],a[0];\\nu(pi/2,pi/4,3*pi/4) a[0];\\ncx c[2],a[0];\\nu(pi/2,0,3*pi/4) a[0];\\nu(pi/2,pi/4,-pi) a[1];\\ncx c[5],a[1];\\nu(pi/2,0,3*pi/4) a[1];\\ncx c[3],a[1];\\nu(0,0,pi/4) a[1];\\ncx c[4],a[1];\\nu(0,0,-pi/4) a[1];\\ncx c[3],a[1];\\nu(0,0,pi/4) a[1];\\ncx c[4],a[1];\\nu(pi/2,pi/4,3*pi/4) a[1];\\ncx c[5],a[1];\\nu(pi/2,0,3*pi/4) a[1];\\nu(pi/2,pi/4,-pi) a[2];\\ncx c[8],a[2];\\nu(pi/2,0,3*pi/4) a[2];\\ncx c[6],a[2];\\nu(0,0,pi/4) a[2];\\ncx c[7],a[2];\\nu(0,0,-pi/4) a[2];\\ncx c[6],a[2];\\nu(0,0,pi/4) a[2];\\ncx c[7],a[2];\\nu(pi/2,pi/4,3*pi/4) a[2];\\ncx c[8],a[2];\\nu(pi/2,pi/8,3*pi/4) a[2];\\nu(pi/2,pi/4,-pi) a[3];\\ncx c[12],a[3];\\nu(0,2.1003505,-2.8857486) a[3];\\ncx c[10],a[3];\\nu(0,0,-pi/4) a[3];\\ncx c[9],a[3];\\nu(0,0,pi/4) a[3];\\ncx c[10],a[3];\\nu(0,0,pi/4) c[10];\\nu(0,0,-pi/4) a[3];\\ncx c[9],a[3];\\ncx c[9],c[10];\\nu(0,0,-pi/4) c[10];\\nu(0,0,pi/4) c[9];\\ncx c[9],c[10];\\nu(pi/2,pi/4,-3*pi/4) a[3];\\ncx c[11],a[3];\\nu(pi/2,0,3*pi/4) a[3];\\ncx c[9],a[3];\\nu(0,0,pi/4) a[3];\\ncx c[10],a[3];\\nu(0,0,-pi/4) a[3];\\ncx c[9],a[3];\\nu(0,0,pi/4) a[3];\\ncx c[10],a[3];\\nu(pi/2,pi/4,3*pi/4) a[3];\\ncx c[11],a[3];\\nu(pi/2,pi/4,3*pi/4) a[3];\\ncx c[12],a[3];\\nu(pi/2,pi/8,3*pi/4) a[3];\\ncx a[2],a[3];\\nu(0,0,-pi/8) a[3];\\ncx a[2],a[3];\\nu(pi/2,pi/4,-pi) a[4];\\ncx c[13],a[4];\\nu(pi/2,0,3*pi/4) a[4];\\ncx a[0],a[4];\\nu(0,0,pi/4) a[4];\\ncx a[1],a[4];\\nu(0,0,-pi/4) a[4];\\ncx a[0],a[4];\\nu(0,0,pi/4) a[4];\\ncx a[1],a[4];\\nu(pi/2,pi/4,3*pi/4) a[4];\\ncx c[13],a[4];\\nu(pi/2,pi/8,3*pi/4) a[4];\\ncx a[3],a[4];\\nu(0,0,-pi/8) a[4];\\ncx a[2],a[4];\\nu(0,0,pi/8) a[4];\\ncx a[3],a[4];\\nu(0,0,-pi/8) a[4];\\ncx a[2],a[4];\\ncx a[4],t[0];\\nu(0,0,-pi/8) t[0];\\ncx a[3],t[0];\\nu(0,0,pi/8) t[0];\\ncx a[4],t[0];\\nu(0,0,-pi/8) t[0];\\ncx a[2],t[0];\\nu(0,0,pi/8) t[0];\\ncx a[4],t[0];\\nu(0,0,-pi/8) t[0];\\ncx a[3],t[0];\\nu(0,0,pi/8) t[0];\\nu(pi/2,pi/4,-pi) a[3];\\ncx c[12],a[3];\\nu(pi/2,pi/4,3*pi/4) a[3];\\ncx c[11],a[3];\\nu(pi/2,pi/4,3*pi/4) a[3];\\ncx c[10],a[3];\\nu(0,0,-pi/4) a[3];\\ncx c[9],a[3];\\nu(0,0,pi/4) a[3];\\ncx c[10],a[3];\\nu(0,0,-pi/4) a[3];\\ncx c[9],a[3];\\nu(pi/2,pi/4,-pi) a[3];\\ncx c[11],a[3];\\nu(pi/2,0,3*pi/4) a[3];\\ncx c[10],a[3];\\nu(0,0,-pi/4) a[3];\\ncx c[9],a[3];\\nu(0,0,pi/4) a[3];\\ncx c[10],a[3];\\nu(0,0,pi/4) c[10];\\nu(0,0,-pi/4) a[3];\\ncx c[9],a[3];\\ncx c[9],c[10];\\nu(0,0,-pi/4) c[10];\\nu(0,0,pi/4) c[9];\\ncx c[9],c[10];\\nu(0,2.8857486,-1.3149523) a[3];\\ncx c[12],a[3];\\nu(pi/2,0,3*pi/4) a[3];\\ncx a[4],t[0];\\nu(0,0,-pi/8) t[0];\\ncx a[2],t[0];\\nu(pi/2,0,pi) t[0];\\nu(pi/2,pi/4,-pi) a[2];\\ncx c[8],a[2];\\nu(pi/2,pi/4,3*pi/4) a[2];\\ncx c[7],a[2];\\nu(0,0,-pi/4) a[2];\\ncx c[6],a[2];\\nu(0,0,pi/4) a[2];\\ncx c[7],a[2];\\nu(0,0,-pi/4) a[2];\\ncx c[6],a[2];\\nu(pi/2,pi/4,-pi) a[2];\\ncx c[8],a[2];\\nu(pi/2,0,3*pi/4) a[2];\\nu(pi/2,pi/4,-pi) a[4];\\ncx c[13],a[4];\\nu(pi/2,pi/4,3*pi/4) a[4];\\ncx a[1],a[4];\\nu(0,0,-pi/4) a[4];\\ncx a[0],a[4];\\nu(0,0,pi/4) a[4];\\ncx a[1],a[4];\\nu(pi/2,pi/4,-pi) a[1];\\ncx c[5],a[1];\\nu(pi/2,pi/4,3*pi/4) a[1];\\ncx c[4],a[1];\\nu(0,0,-pi/4) a[1];\\ncx c[3],a[1];\\nu(0,0,pi/4) a[1];\\ncx c[4],a[1];\\nu(0,0,-pi/4) a[1];\\ncx c[3],a[1];\\nu(pi/2,pi/4,-pi) a[1];\\ncx c[5],a[1];\\nu(pi/2,0,3*pi/4) a[1];\\nu(0,0,-pi/4) a[4];\\ncx a[0],a[4];\\nu(pi/2,pi/4,-pi) a[0];\\ncx c[2],a[0];\\nu(pi/2,pi/4,3*pi/4) a[0];\\ncx c[1],a[0];\\nu(0,0,-pi/4) a[0];\\ncx c[0],a[0];\\nu(0,0,pi/4) a[0];\\ncx c[1],a[0];\\nu(0,0,-pi/4) a[0];\\ncx c[0],a[0];\\nu(pi/2,pi/4,-pi) a[0];\\ncx c[2],a[0];\\nu(pi/2,0,3*pi/4) a[0];\\nu(pi/2,pi/4,-pi) a[4];\\ncx c[13],a[4];\\nu(pi/2,0,3*pi/4) a[4];\\n'"
      ]
     },
     "execution_count": 4,
     "metadata": {},
     "output_type": "execute_result"
    }
   ],
   "source": [
    "aer_simulator = Aer.get_backend('aer_simulator')\n",
    "qc_transpiled = transpile(qc, aer_simulator, basis_gates=['u', 'cx'], optimization_level=3)\n",
    "print(qc_transpiled.depth())\n",
    "print(qc_transpiled.count_ops())\n",
    "qc_transpiled.qasm(filename='toffoli1.qasm')"
   ]
  },
  {
   "cell_type": "code",
   "execution_count": 5,
   "metadata": {},
   "outputs": [
    {
     "name": "stdout",
     "output_type": "stream",
     "text": [
      "(0.9999999999999972+4.921270418292891e-16j)\n"
     ]
    }
   ],
   "source": [
    "state = qiskit.quantum_info.Statevector.from_instruction(qc)\n",
    "for elem in state.to_dict(decimals=3).values():\n",
    "    if elem - 0.007812499999999984+4.293221566713447e-18j > 0.1:\n",
    "        print(elem)"
   ]
  },
  {
   "cell_type": "code",
   "execution_count": 6,
   "metadata": {},
   "outputs": [
    {
     "name": "stdout",
     "output_type": "stream",
     "text": [
      "Mode: noancilla\n",
      "Controls: 1, Depth: 2, Ancilla: 0, Ops: OrderedDict([('u', 1), ('cx', 1)])\n",
      "Controls: 2, Depth: 11, Ancilla: 0, Ops: OrderedDict([('u', 10), ('cx', 6)])\n",
      "Controls: 3, Depth: 27, Ancilla: 0, Ops: OrderedDict([('u', 16), ('cx', 14)])\n",
      "Controls: 4, Depth: 65, Ancilla: 0, Ops: OrderedDict([('u', 44), ('cx', 36)])\n",
      "Controls: 5, Depth: 155, Ancilla: 0, Ops: OrderedDict([('u', 98), ('cx', 92)])\n",
      "Controls: 6, Depth: 315, Ancilla: 0, Ops: OrderedDict([('u', 195), ('cx', 188)])\n",
      "Controls: 7, Depth: 635, Ancilla: 0, Ops: OrderedDict([('u', 388), ('cx', 380)])\n",
      "Controls: 8, Depth: 1275, Ancilla: 0, Ops: OrderedDict([('u', 773), ('cx', 764)])\n",
      "Controls: 9, Depth: 2555, Ancilla: 0, Ops: OrderedDict([('u', 1542), ('cx', 1532)])\n",
      "\n",
      "Mode: recursion\n",
      "Controls: 1, Depth: 2, Ancilla: 0, Ops: OrderedDict([('u', 1), ('cx', 1)])\n",
      "Controls: 2, Depth: 11, Ancilla: 0, Ops: OrderedDict([('u', 10), ('cx', 6)])\n",
      "Controls: 3, Depth: 27, Ancilla: 0, Ops: OrderedDict([('u', 16), ('cx', 14)])\n",
      "Controls: 4, Depth: 65, Ancilla: 0, Ops: OrderedDict([('u', 44), ('cx', 36)])\n",
      "Controls: 5, Depth: 87, Ancilla: 1, Ops: OrderedDict([('u', 61), ('cx', 56)])\n",
      "Controls: 6, Depth: 155, Ancilla: 1, Ops: OrderedDict([('u', 113), ('cx', 100)])\n",
      "Controls: 7, Depth: 225, Ancilla: 1, Ops: OrderedDict([('u', 165), ('cx', 144)])\n",
      "Controls: 8, Depth: 253, Ancilla: 1, Ops: OrderedDict([('u', 202), ('cx', 184)])\n",
      "Controls: 9, Depth: 316, Ancilla: 1, Ops: OrderedDict([('u', 241), ('cx', 224)])\n",
      "\n",
      "Mode: v-chain\n",
      "Controls: 1, Depth: 2, Ancilla: 0, Ops: OrderedDict([('u', 1), ('cx', 1)])\n",
      "Controls: 2, Depth: 11, Ancilla: 0, Ops: OrderedDict([('u', 10), ('cx', 6)])\n",
      "Controls: 3, Depth: 24, Ancilla: 1, Ops: OrderedDict([('u', 19), ('cx', 12)])\n",
      "Controls: 4, Depth: 36, Ancilla: 2, Ops: OrderedDict([('u', 28), ('cx', 18)])\n",
      "Controls: 5, Depth: 48, Ancilla: 3, Ops: OrderedDict([('u', 37), ('cx', 24)])\n",
      "Controls: 6, Depth: 60, Ancilla: 4, Ops: OrderedDict([('u', 46), ('cx', 30)])\n",
      "Controls: 7, Depth: 72, Ancilla: 5, Ops: OrderedDict([('u', 55), ('cx', 36)])\n",
      "Controls: 8, Depth: 84, Ancilla: 6, Ops: OrderedDict([('u', 64), ('cx', 42)])\n",
      "Controls: 9, Depth: 96, Ancilla: 7, Ops: OrderedDict([('u', 73), ('cx', 48)])\n",
      "\n",
      "Mode: v-chain-dirty\n",
      "Controls: 1, Depth: 2, Ancilla: 0, Ops: OrderedDict([('u', 1), ('cx', 1)])\n",
      "Controls: 2, Depth: 11, Ancilla: 0, Ops: OrderedDict([('u', 10), ('cx', 6)])\n",
      "Controls: 3, Depth: 29, Ancilla: 1, Ops: OrderedDict([('u', 19), ('cx', 14)])\n",
      "Controls: 4, Depth: 53, Ancilla: 2, Ops: OrderedDict([('u', 34), ('cx', 26)])\n",
      "Controls: 5, Depth: 77, Ancilla: 3, Ops: OrderedDict([('u', 49), ('cx', 38)])\n",
      "Controls: 6, Depth: 101, Ancilla: 4, Ops: OrderedDict([('u', 64), ('cx', 50)])\n",
      "Controls: 7, Depth: 125, Ancilla: 5, Ops: OrderedDict([('u', 79), ('cx', 62)])\n",
      "Controls: 8, Depth: 149, Ancilla: 6, Ops: OrderedDict([('u', 94), ('cx', 74)])\n",
      "Controls: 9, Depth: 173, Ancilla: 7, Ops: OrderedDict([('u', 109), ('cx', 86)])\n",
      "\n"
     ]
    }
   ],
   "source": [
    "# test efficiency of various sizes with no-ancilla\n",
    "numControls = 10\n",
    "modes = ['noancilla', 'recursion', 'v-chain', 'v-chain-dirty']\n",
    "for m in modes:\n",
    "    print(f\"Mode: {m}\")\n",
    "    for i in range(1, numControls):\n",
    "        ancilla_qubits = QuantumRegister(15, name='a')\n",
    "        control_qubits = QuantumRegister(i, name=\"c\")\n",
    "        qc = QuantumCircuit(control_qubits, target_qubit, ancilla_qubits, classical_bits)\n",
    "        for j in range(i):\n",
    "            qc.x(control_qubits[j])\n",
    "        qc.mcx(control_qubits, ancilla_qubits[0], ancilla_qubits=ancilla_qubits[1:], mode=m)\n",
    "        qc_transpiled = transpile(qc, aer_simulator, basis_gates=['u', 'cx'], optimization_level=3)\n",
    "        if (m == 'noancilla'):\n",
    "            num_ancilla = 0\n",
    "        elif (m == 'recursion'):\n",
    "            num_ancilla = 0 if i < 5 else 1\n",
    "        elif (m == 'v-chain' or m =='v-chain-dirty'):\n",
    "            num_ancilla = i - 2 if i > 2 else 0\n",
    "        print(f\"Controls: {i}, Depth: {qc_transpiled.depth()}, Ancilla: {num_ancilla}, Ops: {qc_transpiled.count_ops()}\")\n",
    "    print()"
   ]
  },
  {
   "cell_type": "code",
   "execution_count": 7,
   "metadata": {},
   "outputs": [
    {
     "data": {
      "text/html": [
       "<pre style=\"word-wrap: normal;white-space: pre;background: #fff0;line-height: 1.1;font-family: &quot;Courier New&quot;,Courier,monospace\">     ┌───────┐     ┌──────────┐\n",
       "q_0: ┤0      ├─────┤0         ├\n",
       "     │       │     │          │\n",
       "q_1: ┤1      ├─────┤1         ├\n",
       "     │       │     │          │\n",
       "q_2: ┤2 Rc4x ├─────┤2 Rc4x_dg ├\n",
       "     │       │     │          │\n",
       "q_3: ┤3      ├─────┤3         ├\n",
       "     │       │     │          │\n",
       "q_4: ┤4      ├──■──┤4         ├\n",
       "     └───────┘┌─┴─┐└──────────┘\n",
       "q_5: ─────────┤ X ├────────────\n",
       "              └───┘            </pre>"
      ],
      "text/plain": [
       "     ┌───────┐     ┌──────────┐\n",
       "q_0: ┤0      ├─────┤0         ├\n",
       "     │       │     │          │\n",
       "q_1: ┤1      ├─────┤1         ├\n",
       "     │       │     │          │\n",
       "q_2: ┤2 Rc4x ├─────┤2 Rc4x_dg ├\n",
       "     │       │     │          │\n",
       "q_3: ┤3      ├─────┤3         ├\n",
       "     │       │     │          │\n",
       "q_4: ┤4      ├──■──┤4         ├\n",
       "     └───────┘┌─┴─┐└──────────┘\n",
       "q_5: ─────────┤ X ├────────────\n",
       "              └───┘            "
      ]
     },
     "execution_count": 7,
     "metadata": {},
     "output_type": "execute_result"
    }
   ],
   "source": [
    "# Testing my gate\n",
    "def Rc4x():\n",
    "    # relative phase toffoli-5 implementation\n",
    "    qc = QuantumCircuit(5)\n",
    "    qc.h(4)\n",
    "    qc.t(4)\n",
    "    qc.cx(3, 4)\n",
    "    qc.tdg(4)\n",
    "    qc.h(4)\n",
    "    qc.mcx([0, 1], 4)\n",
    "    qc.h(4)\n",
    "    qc.append(RC3XGate(), [0, 1, 2, 4])\n",
    "    # qc.mcx([0, 1, 2], 4)\n",
    "    qc.t(4)\n",
    "    qc.cx(3, 4)\n",
    "    qc.tdg(4)\n",
    "    qc.h(4)\n",
    "\n",
    "    rc4x = qc.to_gate()\n",
    "    rc4x.name = \"Rc4x\"\n",
    "    return rc4x\n",
    "\n",
    "qc = QuantumCircuit(6)\n",
    "qc.append(Rc4x(), range(5))\n",
    "qc.cx(4, 5)\n",
    "qc.append(Rc4x().inverse(), range(5))\n",
    "#circuit already defined\n",
    "backend = Aer.get_backend('unitary_simulator')\n",
    "job = execute(qc, backend)\n",
    "result = job.result()\n",
    "U_circuit = result.get_unitary(qc, decimals=3)\n",
    "qc.draw()"
   ]
  },
  {
   "cell_type": "code",
   "execution_count": 8,
   "metadata": {},
   "outputs": [
    {
     "data": {
      "text/html": [
       "<pre style=\"word-wrap: normal;white-space: pre;background: #fff0;line-height: 1.1;font-family: &quot;Courier New&quot;,Courier,monospace\">               \n",
       "q_0: ──■───────\n",
       "       │       \n",
       "q_1: ──■───────\n",
       "       │       \n",
       "q_2: ──■───────\n",
       "       │       \n",
       "q_3: ──■───────\n",
       "       │       \n",
       "q_4: ──┼────■──\n",
       "     ┌─┴─┐┌─┴─┐\n",
       "q_5: ┤ X ├┤ X ├\n",
       "     └───┘└───┘</pre>"
      ],
      "text/plain": [
       "               \n",
       "q_0: ──■───────\n",
       "       │       \n",
       "q_1: ──■───────\n",
       "       │       \n",
       "q_2: ──■───────\n",
       "       │       \n",
       "q_3: ──■───────\n",
       "       │       \n",
       "q_4: ──┼────■──\n",
       "     ┌─┴─┐┌─┴─┐\n",
       "q_5: ┤ X ├┤ X ├\n",
       "     └───┘└───┘"
      ]
     },
     "execution_count": 8,
     "metadata": {},
     "output_type": "execute_result"
    }
   ],
   "source": [
    "qc = QuantumCircuit(6)\n",
    "qc.mcx(list(range(4)), 5)\n",
    "qc.cx(4, 5)\n",
    "backend = Aer.get_backend('unitary_simulator')\n",
    "job = execute(qc, backend)\n",
    "result = job.result()\n",
    "U_target = result.get_unitary(qc)\n",
    "qc.draw()"
   ]
  },
  {
   "cell_type": "code",
   "execution_count": 9,
   "metadata": {},
   "outputs": [
    {
     "data": {
      "text/plain": [
       "0.0"
      ]
     },
     "execution_count": 9,
     "metadata": {},
     "output_type": "execute_result"
    }
   ],
   "source": [
    "norm(U_circuit-U_target) # 0 indicates that the circuit works correctly and matches the target matrix"
   ]
  },
  {
   "cell_type": "code",
   "execution_count": 10,
   "metadata": {},
   "outputs": [
    {
     "name": "stdout",
     "output_type": "stream",
     "text": [
      "66\n",
      "OrderedDict([('u', 41), ('cx', 37)])\n"
     ]
    }
   ],
   "source": [
    "aer_simulator = Aer.get_backend('aer_simulator')\n",
    "qc_transpiled = transpile(qc, aer_simulator, basis_gates=['u', 'cx'], optimization_level=3)\n",
    "print(qc_transpiled.depth())\n",
    "print(qc_transpiled.count_ops())"
   ]
  },
  {
   "cell_type": "code",
   "execution_count": null,
   "metadata": {},
   "outputs": [],
   "source": []
  }
 ],
 "metadata": {
  "interpreter": {
   "hash": "1afdd5487afa15bf0797b22f2c7929f0a6c7ad3aebeaee922bd5f75d64efa325"
  },
  "kernelspec": {
   "display_name": "Python 3 (ipykernel)",
   "language": "python",
   "name": "python3"
  },
  "language_info": {
   "codemirror_mode": {
    "name": "ipython",
    "version": 3
   },
   "file_extension": ".py",
   "mimetype": "text/x-python",
   "name": "python",
   "nbconvert_exporter": "python",
   "pygments_lexer": "ipython3",
   "version": "3.9.7"
  }
 },
 "nbformat": 4,
 "nbformat_minor": 2
}
