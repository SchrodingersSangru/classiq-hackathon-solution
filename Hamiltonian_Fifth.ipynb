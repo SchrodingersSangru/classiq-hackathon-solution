{
 "cells": [
  {
   "cell_type": "markdown",
   "metadata": {},
   "source": [
    "# Hamiltonian Exponentiation - 5th Place Team Carnivorous Cacti (Tarushii Goel, Kareem Jaber, Cyril Sharma), USA\n",
    "\n",
    "Below is code and methodology from the fifth place solution to the Spring 2022 Classiq Coding Competition. \n"
   ]
  },
  {
   "cell_type": "markdown",
   "metadata": {},
   "source": [
    "## Submission Description\n",
    "The main issue we had with solving this problem was just implementing the trotterization algorithm, as it was often difficult to determine sources of error. We would often find very little error in toy examples, but then massive error in the full problem, even when accounting for variables like the increases in the number of pauli strings (10 → 126) or the number of qubits. We discovered bugs such as qiskit’s reversal of qubit order when constructing the circuit unitary (ZIIIIIIIII should apply rotation on the last qubit in the qiskit quantum register, not the first qubit) and forgetting to account for global phase in the error calculation (our circuits would be correct but the matrices would be off by a global phase) which helped us reduce the error. We also developed code to remove higher order error terms by rearranging the terms in the e^iH expansion (https://docs.microsoft.com/en-us/azure/quantum/user-guide/libraries/chemistry/concepts/algorithms, get_circuit_k where k is the order of error). However, we didn’t end up using the more accurate approximations because when we removed the aforementioned bugs, we discovered that we could get below the error requirements with just one iteration (n=1) of the Pauli strings (error=0.0784)."
   ]
  },
  {
   "cell_type": "code",
   "execution_count": 35,
   "metadata": {},
   "outputs": [],
   "source": [
    "import numpy as np\n",
    "from numpy.random import default_rng\n",
    "from qiskit import IBMQ, Aer, assemble, transpile, execute\n",
    "from qiskit import QuantumCircuit, ClassicalRegister, QuantumRegister\n",
    "from qiskit.providers.ibmq import least_busy\n",
    "from qiskit.quantum_info.operators import Operator, Pauli\n",
    "from qiskit.algorithms import NumPyEigensolver\n",
    "from numpy import linalg as LA\n",
    "from scipy.linalg import expm, norm"
   ]
  },
  {
   "cell_type": "code",
   "execution_count": 49,
   "metadata": {},
   "outputs": [],
   "source": [
    "seed = 14\n",
    "def is_unitary(m):\n",
    "    return norm(np.eye(len(m)) - m.dot(m.T.conj()))\n",
    "def is_hermitian(m):\n",
    "    return norm(m-m.T.conj())\n",
    "def get_error(e_ith, U_circuit):\n",
    "    # measure the operator's accuracy\n",
    "    diff = U_circuit.data - e_ith\n",
    "    w, v = LA.eig(diff)\n",
    "    return np.max(np.absolute(w))\n",
    "def generateBases(numBases, baseLength):\n",
    "    rng = default_rng(seed)\n",
    "    bases = []\n",
    "    gates = ['X', 'Y', 'Z', 'I']\n",
    "    for _ in range(numBases):\n",
    "        base = ''.join(rng.choice(gates, baseLength, p=[0.2,0.2,0.2,0.4]))\n",
    "        bases.append(base)\n",
    "    return bases\n",
    "def generateCoefficients(numBases):\n",
    "    rng = default_rng(seed)\n",
    "    return rng.uniform(size=len(bases))"
   ]
  },
  {
   "cell_type": "code",
   "execution_count": 37,
   "metadata": {},
   "outputs": [],
   "source": [
    "coefficients = []\n",
    "bases = []\n",
    "with open('LiH-Hamiltonian.txt') as f:\n",
    "    for line in f:\n",
    "        x = line.strip().split(\" \")\n",
    "        if (len(line) > 1):\n",
    "            c = float(x[1])\n",
    "            c = (c if x[0] == '+' else -c)\n",
    "            coefficients.append(c)\n",
    "            bases.append(x[3])\n",
    "\n",
    "# comment this out when stuff actually works\n",
    "# numBases = 100\n",
    "# baseLength = 5\n",
    "# bases = generateBases(numBases, baseLength)\n",
    "# coefficients = generateCoefficients(numBases)\n",
    "hamiltonian = np.zeros((2**len(bases[0]), 2**len(bases[0])), dtype=np.cdouble)\n",
    "for c, lbl in zip(coefficients, bases):\n",
    "    op = Operator(Pauli(label=lbl))\n",
    "    hamiltonian+=c*op.data"
   ]
  },
  {
   "cell_type": "code",
   "execution_count": 38,
   "metadata": {},
   "outputs": [],
   "source": [
    "def buildPauliString(qc, pauliString, t, n):\n",
    "    c, b = pauliString\n",
    "    # implement e^{-i*c*b*t/n}\n",
    "    b = b[::-1]\n",
    "    q = []\n",
    "    # qc.barrier()\n",
    "    for i, op in enumerate(b):\n",
    "        if (op == 'X'):\n",
    "            qc.h(i)\n",
    "            q.append(i)\n",
    "        elif (op == 'Z'):\n",
    "            q.append(i)\n",
    "        elif (op == 'Y'):\n",
    "            qc.sdg(i)\n",
    "            qc.h(i)\n",
    "            q.append(i)\n",
    "        elif (op == 'I'):\n",
    "            continue\n",
    "    # qc.barrier()\n",
    "    if (len(q) > 0):\n",
    "        if (len(q) > 1):\n",
    "            for i in range(len(q)-1):\n",
    "                qc.cx(q[i], q[-1])\n",
    "        qc.rz(2*c*t/n, q[-1])\n",
    "        if (len(q) > 1):\n",
    "            for i in reversed(range(len(q)-1)):\n",
    "                qc.cx(q[i], q[-1])\n",
    "        # qc.barrier()\n",
    "        for i, op in enumerate(b):\n",
    "            if (op == 'X'):\n",
    "                qc.h(i)\n",
    "            elif (op == 'Z'):\n",
    "                continue\n",
    "            elif (op == 'Y'):\n",
    "                qc.h(i)\n",
    "                qc.s(i)\n",
    "            elif (op == 'I'):\n",
    "                continue\n",
    "    # qc.barrier()\n",
    "    return qc\n",
    "\n",
    "def buildHamiltonian(qc, pauliStrings, t, n):\n",
    "    for pauliString in pauliStrings:\n",
    "        qc = buildPauliString(qc, pauliString, t, n)\n",
    "    return qc"
   ]
  },
  {
   "cell_type": "code",
   "execution_count": 39,
   "metadata": {},
   "outputs": [],
   "source": [
    "# first order trotter formulation.\n",
    "def get_circuit_1(t=1, n=1):\n",
    "    qc = QuantumCircuit(len(bases[0]))\n",
    "    pauliStrings = list(zip(coefficients, bases))\n",
    "    for i in range(n):\n",
    "        qc = buildHamiltonian(qc, pauliStrings, t, n)\n",
    "    return qc\n",
    "\n",
    "# second order trotter formulation.\n",
    "def get_circuit_2(t=1, n=1):\n",
    "    qc = QuantumCircuit(len(bases[0]))\n",
    "    pauliStrings = list(zip(coefficients, bases))\n",
    "    reversedPauliStrings = list(zip(reversed(coefficients), reversed(bases)))\n",
    "    \n",
    "    for i in range(n):\n",
    "        qc = buildHamiltonian(qc, pauliStrings, t, n * 2)\n",
    "        qc = buildHamiltonian(qc, reversedPauliStrings, t, n * 2)\n",
    "    return qc\n",
    "\n",
    "# kth order trotter formulation.\n",
    "def get_circuit_k(t=1, n=1, k=1):\n",
    "    if k == 1:\n",
    "        return get_circuit_1(t,n)\n",
    "    if k == 2:\n",
    "        return get_circuit_2(t,n)\n",
    "    elif (k % 2 == 0):\n",
    "        s_k = (4 - (4**(1 / (k - 1))))**(-1)\n",
    "        c1 = get_circuit_k(s_k * t, n, k-2)\n",
    "        c1_2 = c1.compose(c1)\n",
    "        c2 = get_circuit_k((1 - 4 * s_k) * t, n, k-2)\n",
    "        c = c1_2.compose(c2).compose(c1_2)\n",
    "        return c\n",
    "    else:\n",
    "        return \"make k even!!\"\n",
    "\n",
    "def get_unitaries_k(t=1, n=1, k=1):\n",
    "    e_ith = expm(-1.j * t * hamiltonian)\n",
    "    e_ith_norm = e_ith / e_ith[0,0]\n",
    "    qc = get_circuit_k(t=t, n=n, k=k)\n",
    "    backend = Aer.get_backend('unitary_simulator')\n",
    "    job = execute(qc, backend)\n",
    "    result = job.result()\n",
    "    U_circuit = result.get_unitary(qc)\n",
    "    U_circuit_norm = U_circuit.data / U_circuit.data[0,0]\n",
    "    return e_ith_norm, U_circuit_norm"
   ]
  },
  {
   "cell_type": "code",
   "execution_count": 50,
   "metadata": {},
   "outputs": [
    {
     "data": {
      "text/plain": [
       "0.07845989127970808"
      ]
     },
     "execution_count": 50,
     "metadata": {},
     "output_type": "execute_result"
    }
   ],
   "source": [
    "e_ith5, U_circuit5 = get_unitaries_k(t=1, n=1, k=1)\n",
    "get_error(e_ith5, U_circuit5)"
   ]
  },
  {
   "cell_type": "code",
   "execution_count": null,
   "metadata": {},
   "outputs": [],
   "source": [
    "qc = get_circuit_k(t=1, n=1, k=1)\n",
    "qc.draw()"
   ]
  },
  {
   "cell_type": "code",
   "execution_count": 43,
   "metadata": {},
   "outputs": [
    {
     "name": "stdout",
     "output_type": "stream",
     "text": [
      "1411\n",
      "OrderedDict([('u', 1105), ('cx', 914)])\n"
     ]
    },
    {
     "data": {
      "text/plain": [
       "'OPENQASM 2.0;\\ninclude \"qelib1.inc\";\\nqreg q[10];\\nu(pi/2,0,pi/2) q[0];\\nu(pi/2,0,pi/2) q[1];\\nu(pi/2,-pi/2,pi/2) q[5];\\nu(pi/2,0,pi/2) q[6];\\ncx q[0],q[6];\\nu(pi/2,1.4998704,-pi) q[0];\\ncx q[1],q[6];\\nu(0,0.96224849,-0.96224849) q[1];\\nu(3.0740219,pi/2,-pi) q[6];\\ncx q[5],q[6];\\nu(3.1355233,-pi,-pi/2) q[5];\\nu(1.5707951,1.5703865,-1.5768518) q[6];\\ncx q[5],q[6];\\nu(pi,0.93890883,2.5097052) q[5];\\nu(pi/2,-0.067570782,-pi) q[6];\\ncx q[1],q[6];\\nu(pi/2,-pi/2,pi/2) q[1];\\nu(1.6383671,-pi/2,pi/2) q[6];\\ncx q[0],q[6];\\nu(pi/2,0,-3.0706667) q[0];\\nu(1.6383671,pi/2,-pi/2) q[6];\\ncx q[1],q[6];\\nu(0,0.96224849,-0.96224849) q[1];\\nu(3.0740219,pi/2,-pi) q[6];\\ncx q[5],q[6];\\nu(3.1355233,-pi,-pi/2) q[5];\\nu(1.5707951,1.5703865,-1.5768518) q[6];\\ncx q[5],q[6];\\nu(pi,-0.25710174,-0.25710174) q[5];\\nu(pi/2,-0.067570782,-pi) q[6];\\ncx q[1],q[6];\\ncx q[0],q[6];\\nu(pi/2,pi/2,-pi/2) q[0];\\nu(pi/2,pi/2,-pi/2) q[1];\\nu(pi/2,0,pi) q[6];\\nu(pi/2,0,pi/2) q[9];\\ncx q[0],q[9];\\nu(pi/2,1.4998704,-pi) q[0];\\ncx q[1],q[9];\\nu(0,0.96224849,-0.96224849) q[1];\\ncx q[5],q[9];\\nu(pi,-pi,0) q[5];\\ncx q[6],q[9];\\ncx q[7],q[9];\\ncx q[8],q[9];\\nu(pi/2,0,-3.0907686) q[9];\\ncx q[5],q[9];\\nu(3.1248459,-pi,-pi/2) q[5];\\nu(1.50338,1.5030715,-3.1370234) q[9];\\ncx q[5],q[9];\\nu(pi/2,0,pi/2) q[5];\\nu(pi/2,-1.6383671,-pi) q[9];\\ncx q[1],q[9];\\nu(pi/2,-pi/2,pi/2) q[1];\\nu(1.6383671,-pi/2,pi/2) q[9];\\ncx q[0],q[9];\\nu(0,-0.53865648,2.1094528) q[0];\\nu(1.6383671,pi/2,-pi/2) q[9];\\ncx q[1],q[9];\\nu(0,0.96224849,-0.96224849) q[1];\\nu(pi/2,-pi,3.0740219) q[9];\\ncx q[5],q[9];\\nu(3.1248459,-pi,-pi/2) q[5];\\nu(1.50338,1.5030715,-3.1370234) q[9];\\ncx q[5],q[9];\\nu(0,-2.3930209,-2.3193681) q[5];\\nu(pi/2,1.6216204,0) q[9];\\ncx q[6],q[9];\\ncx q[5],q[9];\\ncx q[1],q[9];\\nu(pi/2,pi/2,-pi/2) q[1];\\nu(pi/2,0,pi) q[5];\\nu(pi/2,-pi/2,pi/2) q[6];\\nu(1.6383671,-pi/2,pi/2) q[9];\\ncx q[0],q[9];\\nu(0,-0.53865648,-1.0321398) q[0];\\nu(1.5032255,-pi/2,pi/2) q[9];\\ncx q[1],q[9];\\nu(0,0.96224849,-0.96224849) q[1];\\nu(3.0740219,pi/2,-pi) q[9];\\ncx q[6],q[9];\\nu(3.1373704,-pi,-pi/2) q[6];\\nu(pi/2,1.5705112,-1.575009) q[9];\\ncx q[6],q[9];\\nu(pi/2,-pi,-pi/2) q[6];\\nu(pi/2,-0.067570782,-pi) q[9];\\ncx q[1],q[9];\\nu(pi/2,-pi/2,pi/2) q[1];\\nu(1.6383671,-pi/2,pi/2) q[9];\\ncx q[0],q[9];\\nu(pi/2,0,-3.0706667) q[0];\\nu(1.6383671,pi/2,-pi/2) q[9];\\ncx q[1],q[9];\\nu(0,0.96224849,-0.96224849) q[1];\\nu(pi/2,0,0.067570782) q[9];\\ncx q[6],q[9];\\nu(3.1373704,-pi,-pi/2) q[6];\\nu(1.50338,1.5030715,-3.1370234) q[9];\\ncx q[6],q[9];\\nu(0,-0.95585619,-0.61494013) q[6];\\nu(pi/2,-1.4990033,0) q[9];\\ncx q[8],q[9];\\ncx q[7],q[9];\\ncx q[6],q[9];\\ncx q[1],q[9];\\ncx q[0],q[9];\\nu(pi/2,-pi,pi/2) q[0];\\nu(pi/2,0,1.6383671) q[1];\\ncx q[0],q[1];\\nu(3.1317575,-pi,-pi/2) q[0];\\nu(1.5707931,1.5701323,-1.580609) q[1];\\ncx q[0],q[1];\\nu(8.963151e-14,1.1901137,1.9514789) q[0];\\nu(1.5032255,pi/126325674143365,pi/2) q[1];\\nu(pi/2,0,pi) q[6];\\nu(pi/2,0,pi) q[9];\\ncx q[0],q[9];\\nu(pi/2,pi/2,0) q[0];\\ncx q[1],q[9];\\nu(0,0,0.021080374818053) q[9];\\ncx q[1],q[9];\\nu(pi/2,-pi/2,pi/2) q[1];\\nu(1.5032255,pi/2,pi/2) q[9];\\ncx q[0],q[9];\\nu(pi/2,-pi,-pi) q[0];\\nu(3.0740219,pi/2,pi/2) q[9];\\ncx q[1],q[9];\\nu(0,0,0.021080374818053) q[9];\\ncx q[1],q[9];\\ncx q[0],q[9];\\nu(pi/2,pi/2,-pi/2) q[0];\\ncx q[0],q[8];\\nu(pi/2,pi/2,0) q[0];\\nu(pi/2,pi/2,-pi/2) q[1];\\ncx q[1],q[8];\\nu(0,0,-0.00236456646494516) q[8];\\ncx q[1],q[8];\\nu(pi/2,-pi/2,pi/2) q[1];\\nu(1.5032255,pi/2,pi/2) q[8];\\ncx q[0],q[8];\\nu(pi/2,-pi,-pi) q[0];\\nu(3.0740219,pi/2,pi/2) q[8];\\ncx q[1],q[8];\\nu(0,0,-0.00236456646494516) q[8];\\ncx q[1],q[8];\\ncx q[0],q[8];\\nu(pi/2,pi/2,-pi/2) q[0];\\ncx q[0],q[7];\\nu(pi/2,pi/2,0) q[0];\\nu(pi/2,pi/2,-pi/2) q[1];\\ncx q[1],q[7];\\nu(0,0,-0.00236456646494516) q[7];\\ncx q[1],q[7];\\nu(pi/2,-pi/2,pi/2) q[1];\\nu(1.5032255,pi/2,pi/2) q[7];\\ncx q[0],q[7];\\nu(pi/2,-pi,-pi) q[0];\\nu(3.0740219,pi/2,pi/2) q[7];\\ncx q[1],q[7];\\nu(0,0,-0.00236456646494516) q[7];\\ncx q[1],q[7];\\ncx q[0],q[7];\\nu(pi/2,pi/2,-pi/2) q[0];\\ncx q[0],q[6];\\nu(pi/2,pi/2,0) q[0];\\nu(pi/2,pi/2,-pi/2) q[1];\\ncx q[1],q[6];\\nu(0,0,-0.00308134017941484) q[6];\\ncx q[1],q[6];\\nu(pi/2,-pi/2,pi/2) q[1];\\nu(1.5032255,pi/2,pi/2) q[6];\\ncx q[0],q[6];\\nu(pi/2,-pi,-pi) q[0];\\nu(3.0740219,pi/2,pi/2) q[6];\\ncx q[1],q[6];\\nu(0,0,-0.00308134017941484) q[6];\\ncx q[1],q[6];\\ncx q[0],q[6];\\nu(pi/2,pi/2,-pi/2) q[0];\\ncx q[0],q[5];\\nu(pi/2,pi/2,0) q[0];\\nu(pi/2,pi/2,-pi/2) q[1];\\ncx q[1],q[5];\\nu(0,0,0.0234672478241484) q[5];\\ncx q[1],q[5];\\nu(pi/2,-pi/2,pi/2) q[1];\\nu(1.5032255,pi/2,pi/2) q[5];\\ncx q[0],q[5];\\nu(pi/2,-pi,-pi) q[0];\\nu(3.0740219,pi/2,pi/2) q[5];\\ncx q[1],q[5];\\nu(0,0,0.0234672478241484) q[5];\\ncx q[1],q[5];\\ncx q[0],q[5];\\nu(pi/2,pi/2,-pi/2) q[0];\\ncx q[0],q[4];\\nu(pi/2,pi/2,0) q[0];\\nu(pi/2,pi/2,-pi/2) q[1];\\ncx q[1],q[4];\\nu(0,0,0.0055514924538099) q[4];\\ncx q[1],q[4];\\nu(pi/2,-pi/2,pi/2) q[1];\\nu(1.5032255,pi/2,pi/2) q[4];\\ncx q[0],q[4];\\nu(pi/2,-pi,-pi) q[0];\\nu(3.0740219,pi/2,pi/2) q[4];\\ncx q[1],q[4];\\nu(0,0,0.0055514924538099) q[4];\\ncx q[1],q[4];\\ncx q[0],q[4];\\nu(pi/2,pi/2,-pi/2) q[0];\\ncx q[0],q[3];\\nu(pi/2,pi/2,0) q[0];\\nu(pi/2,pi/2,-pi/2) q[1];\\ncx q[1],q[3];\\nu(0,0,0.00724049751176742) q[3];\\ncx q[1],q[3];\\nu(pi/2,-pi/2,pi/2) q[1];\\nu(1.5032255,pi/2,pi/2) q[3];\\ncx q[0],q[3];\\nu(pi/2,-pi,-pi) q[0];\\nu(3.0740219,pi/2,pi/2) q[3];\\ncx q[1],q[3];\\nu(0,0,0.00724049751176742) q[3];\\ncx q[1],q[3];\\ncx q[0],q[3];\\nu(pi/2,pi/2,-pi/2) q[0];\\ncx q[0],q[2];\\nu(pi/2,pi/2,0) q[0];\\nu(pi/2,pi/2,-pi/2) q[1];\\ncx q[1],q[2];\\nu(0,0,0.00724049751176742) q[2];\\ncx q[1],q[2];\\nu(pi/2,-pi/2,pi/2) q[1];\\nu(1.5032255,pi/2,pi/2) q[2];\\ncx q[0],q[2];\\nu(pi/2,-pi,-pi) q[0];\\nu(3.0740219,pi/2,pi/2) q[2];\\ncx q[1],q[2];\\nu(0,0,0.00724049751176742) q[2];\\ncx q[1],q[2];\\ncx q[0],q[2];\\nu(pi/2,pi/2,-pi/2) q[0];\\nu(pi/2,0,pi) q[1];\\nu(pi/2,0,pi/2) q[2];\\nu(pi/2,0,pi/2) q[3];\\nu(pi/2,0,pi/2) q[4];\\nu(pi/2,0,pi/2) q[5];\\nu(pi/2,0,pi/2) q[7];\\ncx q[0],q[7];\\nu(pi/2,1.4998704,-pi) q[0];\\ncx q[1],q[7];\\ncx q[2],q[7];\\nu(0,0.96224849,-0.96224849) q[2];\\ncx q[5],q[7];\\nu(0,-pi/2,pi/2) q[5];\\ncx q[6],q[7];\\nu(pi/2,-pi,3.0860154) q[7];\\ncx q[5],q[7];\\nu(3.1295991,-pi,-pi/2) q[5];\\nu(1.50338,1.5030715,-3.1370234) q[7];\\ncx q[5],q[7];\\nu(pi/2,-pi,pi/2) q[5];\\nu(pi/2,-1.6383671,-pi) q[7];\\ncx q[2],q[7];\\nu(pi/2,-pi/2,pi/2) q[2];\\nu(1.6383671,-pi/2,pi/2) q[7];\\ncx q[0],q[7];\\nu(0,-0.53865648,2.1094528) q[0];\\nu(1.6383671,pi/2,-pi/2) q[7];\\ncx q[2],q[7];\\nu(0,0.96224849,-0.96224849) q[2];\\nu(pi/2,0,-3.0740219) q[7];\\ncx q[5],q[7];\\nu(3.1295991,-pi,-pi/2) q[5];\\nu(1.50338,1.5030715,-3.1370234) q[7];\\ncx q[5],q[7];\\nu(pi,1.1244045,2.6952009) q[5];\\nu(pi/2,1.6503606,0) q[7];\\ncx q[6],q[7];\\ncx q[5],q[7];\\ncx q[2],q[7];\\nu(pi/2,pi/2,-pi/2) q[2];\\nu(pi/2,pi/2,-pi/2) q[5];\\nu(pi/2,-pi/2,pi/2) q[6];\\nu(1.6383671,-pi/2,pi/2) q[7];\\ncx q[0],q[7];\\nu(0,-0.53865648,-1.0321398) q[0];\\nu(1.5032255,-pi/2,pi/2) q[7];\\ncx q[2],q[7];\\nu(0,0.96224849,-0.96224849) q[2];\\nu(3.0740219,pi/2,-pi) q[7];\\ncx q[6],q[7];\\nu(3.1319876,-pi,-pi/2) q[6];\\nu(1.5707932,1.5701478,-1.5803795) q[7];\\ncx q[6],q[7];\\nu(pi,1.5822168,-3.1301722) q[6];\\nu(pi/2,-0.067570782,-pi) q[7];\\ncx q[2],q[7];\\nu(pi/2,-pi/2,pi/2) q[2];\\nu(1.6383671,-pi/2,pi/2) q[7];\\ncx q[0],q[7];\\nu(pi/2,0,-3.0706667) q[0];\\nu(1.6383671,pi/2,-pi/2) q[7];\\ncx q[2],q[7];\\nu(0,0.96224849,-0.96224849) q[2];\\nu(3.0740219,pi/2,-pi) q[7];\\ncx q[6],q[7];\\nu(3.1319876,-pi,-pi/2) q[6];\\nu(1.5707932,1.5701478,-1.5803795) q[7];\\ncx q[6],q[7];\\nu(pi/2,-pi/2,5.639933e-14) q[6];\\nu(pi/2,-0.067570782,-pi) q[7];\\ncx q[2],q[7];\\ncx q[1],q[7];\\ncx q[0],q[7];\\nu(pi/2,pi/2,-pi/2) q[0];\\nu(pi/2,pi/2,-pi/2) q[2];\\nu(pi/2,pi/2,-pi/2) q[7];\\nu(pi/2,0,pi/2) q[9];\\ncx q[0],q[9];\\nu(pi/2,1.4998704,-pi) q[0];\\ncx q[1],q[9];\\ncx q[2],q[9];\\nu(0,0.96224849,-0.96224849) q[2];\\ncx q[7],q[9];\\nu(0,-pi/4,-3*pi/4) q[7];\\ncx q[8],q[9];\\nu(pi/2,-pi,-0.077330263) q[9];\\ncx q[7],q[9];\\nu(3.1318332,-pi,-pi/2) q[7];\\nu(1.50338,1.5030715,-3.1370234) q[9];\\ncx q[7],q[9];\\nu(pi/2,0,pi/2) q[7];\\nu(pi/2,-1.5032255,0) q[9];\\ncx q[2],q[9];\\nu(pi/2,-pi/2,pi/2) q[2];\\nu(1.6383671,-pi/2,pi/2) q[9];\\ncx q[0],q[9];\\nu(pi/2,0,-3.0706667) q[0];\\nu(1.6383671,pi/2,-pi/2) q[9];\\ncx q[2],q[9];\\nu(0,0.96224849,-0.96224849) q[2];\\nu(pi/2,0,0.067570782) q[9];\\ncx q[7],q[9];\\nu(3.1318332,-pi,-pi/2) q[7];\\nu(1.50338,1.5030715,-3.1370234) q[9];\\ncx q[7],q[9];\\nu(pi,-0.62784141,0.94295491) q[7];\\nu(pi/2,1.4934661,-pi) q[9];\\ncx q[8],q[9];\\ncx q[7],q[9];\\ncx q[2],q[9];\\ncx q[0],q[9];\\nu(pi/2,pi/2,-pi/2) q[0];\\nu(pi/2,0,pi) q[2];\\nu(pi/2,0,pi) q[7];\\nu(pi/2,0,pi/2) q[8];\\ncx q[0],q[8];\\nu(pi/2,1.4998704,-pi) q[0];\\ncx q[1],q[8];\\ncx q[2],q[8];\\ncx q[3],q[8];\\nu(0,0.96224849,-0.96224849) q[3];\\ncx q[5],q[8];\\nu(0,-pi/2,pi/2) q[5];\\ncx q[6],q[8];\\ncx q[7],q[8];\\nu(pi/2,-pi,3.0860154) q[8];\\ncx q[5],q[8];\\nu(3.1295991,-pi,-pi/2) q[5];\\nu(1.50338,1.5030715,-3.1370234) q[8];\\ncx q[5],q[8];\\nu(pi/2,-pi,pi/2) q[5];\\nu(pi/2,-1.6383671,-pi) q[8];\\ncx q[3],q[8];\\nu(pi/2,-pi/2,pi/2) q[3];\\nu(1.6383671,-pi/2,pi/2) q[8];\\ncx q[0],q[8];\\nu(0,-0.53865648,2.1094528) q[0];\\nu(1.6383671,pi/2,-pi/2) q[8];\\ncx q[3],q[8];\\nu(0,0.96224849,-0.96224849) q[3];\\nu(pi/2,0,-3.0740219) q[8];\\ncx q[5],q[8];\\nu(3.1295991,-pi,-pi/2) q[5];\\nu(1.50338,1.5030715,-3.1370234) q[8];\\ncx q[5],q[8];\\nu(pi,1.1244045,2.6952009) q[5];\\nu(pi/2,1.6503606,0) q[8];\\ncx q[6],q[8];\\ncx q[5],q[8];\\ncx q[3],q[8];\\nu(pi/2,pi/2,-pi/2) q[3];\\nu(pi/2,0,pi/2) q[5];\\nu(pi/2,-pi/2,pi/2) q[6];\\nu(1.6383671,-pi/2,pi/2) q[8];\\ncx q[0],q[8];\\nu(0,-0.53865648,-1.0321398) q[0];\\nu(1.5032255,-pi/2,pi/2) q[8];\\ncx q[3],q[8];\\nu(0,0.96224849,-0.96224849) q[3];\\nu(3.0740219,pi/2,-pi) q[8];\\ncx q[6],q[8];\\nu(3.1319876,-pi,-pi/2) q[6];\\nu(1.5707932,1.5701478,-1.5803795) q[8];\\ncx q[6],q[8];\\nu(pi/2,2.8421709e-14,pi/2) q[6];\\nu(pi/2,-0.067570782,-pi) q[8];\\ncx q[3],q[8];\\nu(pi/2,-pi/2,pi/2) q[3];\\nu(1.6383671,-pi/2,pi/2) q[8];\\ncx q[0],q[8];\\nu(pi/2,0,-3.0706667) q[0];\\nu(1.6383671,pi/2,-pi/2) q[8];\\ncx q[3],q[8];\\nu(0,0.96224849,-0.96224849) q[3];\\nu(pi/2,-pi,3.0740219) q[8];\\ncx q[6],q[8];\\nu(3.1319876,-pi,-pi/2) q[6];\\nu(1.50338,1.5030715,-3.1370234) q[8];\\ncx q[6],q[8];\\nu(pi,-1.2309594,-2.8017557) q[6];\\nu(pi/2,-1.628762,-pi) q[8];\\ncx q[7],q[8];\\ncx q[6],q[8];\\ncx q[3],q[8];\\ncx q[2],q[8];\\ncx q[1],q[8];\\ncx q[0],q[8];\\nu(pi/2,pi/2,-pi/2) q[0];\\nu(pi/2,pi/2,-pi/2) q[3];\\nu(pi/2,pi/2,-pi/2) q[6];\\nu(pi/2,0,pi/2) q[8];\\nu(pi/2,pi/2,-pi/2) q[9];\\ncx q[0],q[9];\\nu(pi/2,1.4998704,-pi) q[0];\\ncx q[2],q[9];\\ncx q[3],q[9];\\nu(0,0.96224849,-0.96224849) q[3];\\nu(3.0740219,pi/2,0) q[9];\\ncx q[8],q[9];\\nu(3.1318332,-pi,-pi/2) q[8];\\nu(1.5707931,1.5701374,-1.5805335) q[9];\\ncx q[8],q[9];\\nu(pi,-2.6011971,2.1111919) q[8];\\nu(pi/2,-3.0740219,0) q[9];\\ncx q[3],q[9];\\nu(pi/2,-pi/2,pi/2) q[3];\\nu(1.6383671,-pi/2,pi/2) q[9];\\ncx q[0],q[9];\\nu(pi/2,0,-3.0706667) q[0];\\nu(1.6383671,pi/2,-pi/2) q[9];\\ncx q[3],q[9];\\nu(0,0.96224849,-0.96224849) q[3];\\nu(3.0740219,pi/2,-pi) q[9];\\ncx q[8],q[9];\\nu(3.1318332,-pi,-pi/2) q[8];\\nu(1.5707931,1.5701374,-1.5805335) q[9];\\ncx q[8],q[9];\\nu(pi/2,pi/2,1.110223e-14) q[8];\\nu(pi/2,-0.067570782,-pi) q[9];\\ncx q[3],q[9];\\ncx q[0],q[9];\\nu(pi/2,pi/2,-pi/2) q[0];\\ncx q[0],q[6];\\nu(pi/2,1.4998704,-pi) q[0];\\ncx q[1],q[6];\\ncx q[2],q[6];\\nu(pi/2,0,pi) q[3];\\ncx q[3],q[6];\\ncx q[4],q[6];\\nu(0,0.96224849,-0.96224849) q[4];\\nu(3.0740219,pi/2,0) q[6];\\ncx q[5],q[6];\\nu(3.1248459,-pi,-pi/2) q[5];\\nu(1.5707869,1.5696657,-1.5875048) q[6];\\ncx q[5],q[6];\\nu(pi,-2.4072769,-0.83648055) q[5];\\nu(pi/2,-3.0740219,0) q[6];\\ncx q[4],q[6];\\nu(pi/2,-pi/2,pi/2) q[4];\\nu(1.6383671,-pi/2,pi/2) q[6];\\ncx q[0],q[6];\\nu(pi/2,0,-3.0706667) q[0];\\nu(1.6383671,pi/2,-pi/2) q[6];\\ncx q[4],q[6];\\nu(0,0.96224849,-0.96224849) q[4];\\nu(3.0740219,pi/2,0) q[6];\\ncx q[5],q[6];\\nu(3.1248459,-pi,-pi/2) q[5];\\nu(1.5707869,1.5696657,-1.5875048) q[6];\\ncx q[5],q[6];\\nu(7.6280857e-14,-2.308581,2.308581) q[5];\\nu(pi/2,-3.0740219,0) q[6];\\ncx q[4],q[6];\\ncx q[3],q[6];\\ncx q[2],q[6];\\ncx q[1],q[6];\\ncx q[0],q[6];\\nu(pi/2,pi/2,-pi/2) q[0];\\nu(pi/2,pi/2,-pi/2) q[4];\\nu(pi/2,0,pi) q[6];\\nu(pi/2,pi/2,-pi/2) q[9];\\ncx q[0],q[9];\\nu(pi/2,1.4998704,-pi) q[0];\\ncx q[3],q[9];\\ncx q[4],q[9];\\nu(0,0.96224849,-0.96224849) q[4];\\ncx q[5],q[9];\\nu(pi,-pi/2,pi/2) q[5];\\ncx q[6],q[9];\\ncx q[7],q[9];\\ncx q[8],q[9];\\nu(pi/2,-pi,-0.0060941277) q[9];\\ncx q[5],q[9];\\nu(3.080116,-pi,-pi/2) q[5];\\nu(1.50338,1.5030715,-3.1370234) q[9];\\ncx q[5],q[9];\\nu(pi/2,-pi,-pi/2) q[5];\\nu(pi/2,1.5032255,-pi) q[9];\\ncx q[4],q[9];\\nu(pi/2,-pi/2,pi/2) q[4];\\nu(1.6383671,-pi/2,pi/2) q[9];\\ncx q[0],q[9];\\nu(0,-0.53865648,2.1094528) q[0];\\nu(1.6383671,pi/2,-pi/2) q[9];\\ncx q[4],q[9];\\nu(0,0.96224849,-0.96224849) q[4];\\nu(pi/2,-pi,-0.067570782) q[9];\\ncx q[5],q[9];\\nu(3.080116,-pi,-pi/2) q[5];\\nu(1.50338,1.5030715,-3.1370234) q[9];\\ncx q[5],q[9];\\nu(0,-1.209199,2.7799953) q[5];\\nu(pi/2,1.5647022,-pi) q[9];\\ncx q[6],q[9];\\ncx q[5],q[9];\\ncx q[4],q[9];\\nu(pi/2,pi/2,-pi/2) q[4];\\nu(pi/2,0,pi) q[5];\\nu(pi/2,pi/2,-pi/2) q[6];\\nu(1.6383671,-pi/2,pi/2) q[9];\\ncx q[0],q[9];\\nu(0,-0.53865648,-1.0321398) q[0];\\nu(1.5032255,-pi/2,pi/2) q[9];\\ncx q[4],q[9];\\nu(0,0.96224849,-0.96224849) q[4];\\nu(3.0740219,pi/2,0) q[9];\\ncx q[6],q[9];\\nu(3.1260638,-pi,-pi/2) q[6];\\nu(1.5707882,1.5697479,-1.5862898) q[9];\\ncx q[6],q[9];\\nu(pi/2,-1.4210855e-14,-pi/2) q[6];\\nu(pi/2,-3.0740219,0) q[9];\\ncx q[4],q[9];\\nu(pi/2,-pi/2,pi/2) q[4];\\nu(1.6383671,-pi/2,pi/2) q[9];\\ncx q[0],q[9];\\nu(pi/2,0,-3.0706667) q[0];\\nu(1.6383671,pi/2,-pi/2) q[9];\\ncx q[4],q[9];\\nu(0,0.96224849,-0.96224849) q[4];\\nu(pi/2,-pi,3.0740219) q[9];\\ncx q[6],q[9];\\nu(3.1260638,-pi,-pi/2) q[6];\\nu(1.50338,1.5030715,-3.1370234) q[9];\\ncx q[6],q[9];\\nu(0,-0.8823788,2.4531751) q[6];\\nu(pi/2,1.6228382,0) q[9];\\ncx q[8],q[9];\\ncx q[7],q[9];\\ncx q[6],q[9];\\ncx q[4],q[9];\\ncx q[3],q[9];\\ncx q[2],q[9];\\ncx q[1],q[9];\\ncx q[0],q[9];\\nu(pi/2,pi/2,-pi/2) q[0];\\nu(pi/2,pi/2,-pi/2) q[4];\\ncx q[0],q[4];\\nu(pi/2,2.5320819,0) q[0];\\ncx q[1],q[4];\\ncx q[2],q[4];\\ncx q[3],q[4];\\nu(2.0909672,-pi/2,1.5588983) q[4];\\ncx q[0],q[4];\\nu(pi/2,-pi,-0.96128555) q[0];\\nu(2.0909672,1.5588983,-pi/2) q[4];\\ncx q[3],q[4];\\ncx q[2],q[4];\\ncx q[1],q[4];\\ncx q[0],q[4];\\nu(pi/2,pi/2,-pi/2) q[0];\\nu(pi/2,pi/2,-pi/2) q[4];\\nu(pi/2,0,pi) q[6];\\nu(pi/2,0,pi) q[9];\\ncx q[0],q[9];\\nu(pi/2,pi/2,0) q[0];\\ncx q[1],q[9];\\ncx q[2],q[9];\\ncx q[3],q[9];\\ncx q[4],q[9];\\nu(0,0,-0.0702335408048228) q[9];\\ncx q[4],q[9];\\ncx q[3],q[9];\\ncx q[2],q[9];\\ncx q[1],q[9];\\nu(pi/2,-pi/2,pi/2) q[4];\\nu(1.5032255,pi/2,pi/2) q[9];\\ncx q[0],q[9];\\nu(pi/2,-pi,-pi) q[0];\\nu(3.0740219,pi/2,pi/2) q[9];\\ncx q[1],q[9];\\ncx q[2],q[9];\\ncx q[3],q[9];\\ncx q[4],q[9];\\nu(0,0,-0.0702335408048228) q[9];\\ncx q[4],q[9];\\ncx q[3],q[9];\\ncx q[2],q[9];\\ncx q[1],q[9];\\ncx q[0],q[9];\\nu(pi/2,pi/2,-pi/2) q[0];\\ncx q[0],q[8];\\nu(pi/2,pi/2,0) q[0];\\ncx q[1],q[8];\\ncx q[2],q[8];\\ncx q[3],q[8];\\nu(pi/2,pi/2,-pi/2) q[4];\\ncx q[4],q[8];\\nu(0,0,0.00545976567065283) q[8];\\ncx q[4],q[8];\\ncx q[3],q[8];\\ncx q[2],q[8];\\ncx q[1],q[8];\\nu(pi/2,-pi/2,pi/2) q[4];\\nu(1.5032255,pi/2,pi/2) q[8];\\ncx q[0],q[8];\\nu(pi/2,-pi,-pi) q[0];\\nu(3.0740219,pi/2,pi/2) q[8];\\ncx q[1],q[8];\\ncx q[2],q[8];\\ncx q[3],q[8];\\ncx q[4],q[8];\\nu(0,0,0.00545976567065283) q[8];\\ncx q[4],q[8];\\ncx q[3],q[8];\\ncx q[2],q[8];\\ncx q[1],q[8];\\ncx q[0],q[8];\\nu(pi/2,pi/2,-pi/2) q[0];\\ncx q[0],q[7];\\nu(pi/2,pi/2,0) q[0];\\ncx q[1],q[7];\\ncx q[2],q[7];\\ncx q[3],q[7];\\nu(pi/2,pi/2,-pi/2) q[4];\\ncx q[4],q[7];\\nu(0,0,0.00545976567065283) q[7];\\ncx q[4],q[7];\\ncx q[3],q[7];\\ncx q[2],q[7];\\ncx q[1],q[7];\\nu(pi/2,-pi/2,pi/2) q[4];\\nu(1.5032255,pi/2,pi/2) q[7];\\ncx q[0],q[7];\\nu(pi/2,-pi,-pi) q[0];\\nu(3.0740219,pi/2,pi/2) q[7];\\ncx q[1],q[7];\\ncx q[2],q[7];\\ncx q[3],q[7];\\ncx q[4],q[7];\\nu(0,0,0.00545976567065283) q[7];\\ncx q[4],q[7];\\ncx q[3],q[7];\\ncx q[2],q[7];\\ncx q[1],q[7];\\ncx q[0],q[7];\\nu(pi/2,pi/2,-pi/2) q[0];\\ncx q[0],q[6];\\nu(pi/2,pi/2,0) q[0];\\ncx q[1],q[6];\\ncx q[2],q[6];\\ncx q[3],q[6];\\nu(pi/2,pi/2,-pi/2) q[4];\\ncx q[4],q[6];\\nu(0,0,0.00473587379916895) q[6];\\ncx q[4],q[6];\\ncx q[3],q[6];\\ncx q[2],q[6];\\ncx q[1],q[6];\\nu(pi/2,-pi/2,pi/2) q[4];\\nu(1.5032255,pi/2,pi/2) q[6];\\ncx q[0],q[6];\\nu(pi/2,-pi,-pi) q[0];\\nu(3.0740219,pi/2,pi/2) q[6];\\ncx q[1],q[6];\\ncx q[2],q[6];\\ncx q[3],q[6];\\ncx q[4],q[6];\\nu(0,0,0.00473587379916895) q[6];\\ncx q[4],q[6];\\ncx q[3],q[6];\\ncx q[2],q[6];\\ncx q[1],q[6];\\ncx q[0],q[6];\\nu(pi/2,pi/2,-pi/2) q[0];\\ncx q[0],q[5];\\nu(pi/2,pi/2,0) q[0];\\ncx q[1],q[5];\\ncx q[2],q[5];\\ncx q[3],q[5];\\nu(pi/2,pi/2,-pi/2) q[4];\\ncx q[4],q[5];\\nu(0,0,-0.0661174571755117) q[5];\\ncx q[4],q[5];\\ncx q[3],q[5];\\ncx q[2],q[5];\\ncx q[1],q[5];\\nu(pi/2,-pi/2,pi/2) q[4];\\nu(1.5032255,pi/2,pi/2) q[5];\\ncx q[0],q[5];\\nu(pi/2,-pi,-pi) q[0];\\nu(3.0740219,pi/2,pi/2) q[5];\\ncx q[1],q[5];\\ncx q[2],q[5];\\ncx q[3],q[5];\\ncx q[4],q[5];\\nu(0,0,-0.0661174571755117) q[5];\\ncx q[4],q[5];\\ncx q[3],q[5];\\ncx q[2],q[5];\\ncx q[1],q[5];\\ncx q[0],q[5];\\nu(pi/2,pi/2,-pi/2) q[0];\\nu(pi/2,pi/2,-pi/2) q[4];\\ncx q[0],q[4];\\nu(pi/2,2.5320819,0) q[0];\\ncx q[1],q[4];\\ncx q[2],q[4];\\nu(2.0909672,-pi/2,1.5664966) q[4];\\ncx q[0],q[4];\\nu(pi,-2.8641724,0.95785696) q[0];\\nu(2.0909672,1.5664966,-pi/2) q[4];\\ncx q[2],q[4];\\nu(1.6383671,-pi/2,pi/2) q[4];\\ncx q[0],q[4];\\nu(pi,-0.28186997,-2.7430259) q[0];\\nu(1.5032255,-pi/2,pi/2) q[4];\\ncx q[3],q[4];\\nu(2.0909672,-pi/2,1.5664966) q[4];\\ncx q[0],q[4];\\nu(pi,-2.8641724,0.95785696) q[0];\\nu(2.0909672,1.5664966,-pi/2) q[4];\\ncx q[1],q[4];\\nu(pi/2,0,pi/2) q[1];\\nu(1.6383671,-pi/2,pi/2) q[4];\\ncx q[0],q[4];\\nu(pi,-0.28186997,-2.7430259) q[0];\\nu(1.5032255,-pi/2,pi/2) q[4];\\ncx q[2],q[4];\\nu(2.0909672,-pi/2,1.5797545) q[4];\\ncx q[0],q[4];\\nu(pi/2,-pi,-0.96128555) q[0];\\nu(2.0909672,1.5797545,-pi/2) q[4];\\ncx q[3],q[4];\\ncx q[2],q[4];\\ncx q[0],q[4];\\nu(pi/2,0,pi) q[0];\\nu(pi/2,0,pi/2) q[2];\\nu(pi/2,0,pi/2) q[3];\\nu(pi/2,pi/2,-pi/2) q[4];\\nu(pi/2,0,pi/2) q[5];\\nu(pi/2,0,pi/2) q[7];\\ncx q[1],q[7];\\nu(pi/2,1.4998704,-pi) q[1];\\ncx q[2],q[7];\\nu(0,0.96224849,-0.96224849) q[2];\\ncx q[5],q[7];\\nu(pi,pi/2,pi/2) q[5];\\ncx q[6],q[7];\\nu(pi/2,0,0.077175846) q[7];\\ncx q[5],q[7];\\nu(3.1319876,-pi,-pi/2) q[5];\\nu(1.50338,1.5030715,-3.1370234) q[7];\\ncx q[5],q[7];\\nu(pi/2,-pi,-pi/2) q[5];\\nu(pi/2,-1.5032255,0) q[7];\\ncx q[2],q[7];\\nu(pi/2,-pi/2,pi/2) q[2];\\nu(1.6383671,-pi/2,pi/2) q[7];\\ncx q[1],q[7];\\nu(0,-0.53865648,2.1094528) q[1];\\nu(1.6383671,pi/2,-pi/2) q[7];\\ncx q[2],q[7];\\nu(0,0.96224849,-0.96224849) q[2];\\nu(pi/2,-pi,3.0740219) q[7];\\ncx q[5],q[7];\\nu(3.1319876,-pi,-pi/2) q[5];\\nu(1.50338,1.5030715,-3.1370234) q[7];\\ncx q[5],q[7];\\nu(pi,-1.2309594,-2.8017557) q[5];\\nu(pi/2,-1.628762,-pi) q[7];\\ncx q[6],q[7];\\ncx q[5],q[7];\\ncx q[2],q[7];\\nu(pi/2,pi/2,-pi/2) q[2];\\nu(pi/2,pi/2,-pi/2) q[5];\\nu(pi/2,-pi/2,pi/2) q[6];\\nu(1.6383671,-pi/2,pi/2) q[7];\\ncx q[1],q[7];\\nu(0,-0.53865648,-1.0321398) q[1];\\nu(1.5032255,-pi/2,pi/2) q[7];\\ncx q[2],q[7];\\nu(0,0.96224849,-0.96224849) q[2];\\nu(3.0740219,pi/2,-pi) q[7];\\ncx q[6],q[7];\\nu(3.120935,-pi,-pi/2) q[6];\\nu(1.570782,1.5694016,-1.5914068) q[7];\\ncx q[6],q[7];\\nu(pi,0.59878417,-0.97201216) q[6];\\nu(pi/2,-0.067570782,-pi) q[7];\\ncx q[2],q[7];\\nu(pi/2,-pi/2,pi/2) q[2];\\nu(1.6383671,-pi/2,pi/2) q[7];\\ncx q[1],q[7];\\nu(pi/2,0,-3.0706667) q[1];\\nu(1.6383671,pi/2,-pi/2) q[7];\\ncx q[2],q[7];\\nu(0,0.96224849,-0.96224849) q[2];\\nu(3.0740219,pi/2,1.5099033e-14) q[7];\\ncx q[6],q[7];\\nu(3.120935,-pi,-pi/2) q[6];\\nu(1.570782,1.5694016,-1.5914068) q[7];\\ncx q[6],q[7];\\nu(pi/2,-pi/2,-pi) q[6];\\nu(pi/2,-3.0740219,0) q[7];\\ncx q[2],q[7];\\ncx q[1],q[7];\\nu(pi/2,pi/2,-pi/2) q[1];\\nu(pi/2,pi/2,-pi/2) q[2];\\nu(pi/2,pi/2,-pi/2) q[7];\\nu(pi/2,0,pi/2) q[9];\\ncx q[1],q[9];\\nu(pi/2,1.4998704,-pi) q[1];\\ncx q[2],q[9];\\nu(0,0.96224849,-0.96224849) q[2];\\ncx q[7],q[9];\\nu(pi,1.8925469,1.8925469) q[7];\\ncx q[8],q[9];\\nu(pi/2,-pi,3.0670891) q[9];\\ncx q[7],q[9];\\nu(3.1346599,-pi,-pi/2) q[7];\\nu(1.50338,1.5030715,-3.1370234) q[9];\\ncx q[7],q[9];\\nu(pi/2,-pi,-pi/2) q[7];\\nu(pi/2,1.6383671,0) q[9];\\ncx q[2],q[9];\\nu(pi/2,-pi/2,pi/2) q[2];\\nu(1.6383671,-pi/2,pi/2) q[9];\\ncx q[1],q[9];\\nu(pi/2,0,-3.0706667) q[1];\\nu(1.6383671,pi/2,-pi/2) q[9];\\ncx q[2],q[9];\\nu(0,0.96224849,-0.96224849) q[2];\\nu(pi/2,1.0214052e-14,-3.0740219) q[9];\\ncx q[7],q[9];\\nu(3.1346599,-pi,-pi/2) q[7];\\nu(1.50338,1.5030715,-3.1370234) q[9];\\ncx q[7],q[9];\\nu(0,0.52383482,-2.0946312) q[7];\\nu(pi/2,-1.6452999,-pi) q[9];\\ncx q[8],q[9];\\ncx q[7],q[9];\\ncx q[2],q[9];\\ncx q[1],q[9];\\nu(pi/2,pi/2,-pi/2) q[1];\\nu(pi/2,0,pi) q[2];\\nu(pi/2,0,pi) q[7];\\nu(pi/2,0,pi/2) q[8];\\ncx q[1],q[8];\\nu(pi/2,1.4998704,-pi) q[1];\\ncx q[2],q[8];\\ncx q[3],q[8];\\nu(0,0.96224849,-0.96224849) q[3];\\ncx q[5],q[8];\\nu(pi,pi/2,pi/2) q[5];\\ncx q[6],q[8];\\ncx q[7],q[8];\\nu(pi/2,0,0.077175846) q[8];\\ncx q[5],q[8];\\nu(3.1319876,-pi,-pi/2) q[5];\\nu(1.50338,1.5030715,-3.1370234) q[8];\\ncx q[5],q[8];\\nu(pi/2,-pi,-pi/2) q[5];\\nu(pi/2,-1.5032255,0) q[8];\\ncx q[3],q[8];\\nu(pi/2,-pi/2,pi/2) q[3];\\nu(1.6383671,-pi/2,pi/2) q[8];\\ncx q[1],q[8];\\nu(0,-0.53865648,2.1094528) q[1];\\nu(1.6383671,pi/2,-pi/2) q[8];\\ncx q[3],q[8];\\nu(0,0.96224849,-0.96224849) q[3];\\nu(pi/2,-pi,3.0740219) q[8];\\ncx q[5],q[8];\\nu(3.1319876,-pi,-pi/2) q[5];\\nu(1.50338,1.5030715,-3.1370234) q[8];\\ncx q[5],q[8];\\nu(pi,-1.2309594,-2.8017557) q[5];\\nu(pi/2,-1.628762,-pi) q[8];\\ncx q[6],q[8];\\ncx q[5],q[8];\\ncx q[3],q[8];\\nu(pi/2,pi/2,-pi/2) q[3];\\nu(pi/2,0,-pi/2) q[5];\\nu(pi/2,-pi/2,pi/2) q[6];\\nu(1.6383671,-pi/2,pi/2) q[8];\\ncx q[1],q[8];\\nu(0,-0.53865648,-1.0321398) q[1];\\nu(1.5032255,-pi/2,pi/2) q[8];\\ncx q[3],q[8];\\nu(0,0.96224849,-0.96224849) q[3];\\nu(3.0740219,pi/2,-pi) q[8];\\ncx q[6],q[8];\\nu(3.120935,-pi,-pi/2) q[6];\\nu(1.570782,1.5694016,-1.5914068) q[8];\\ncx q[6],q[8];\\nu(pi/2,-pi,pi/2) q[6];\\nu(pi/2,-0.067570782,-pi) q[8];\\ncx q[3],q[8];\\nu(pi/2,-pi/2,pi/2) q[3];\\nu(1.6383671,-pi/2,pi/2) q[8];\\ncx q[1],q[8];\\nu(pi/2,0,-3.0706667) q[1];\\nu(1.6383671,pi/2,-pi/2) q[8];\\ncx q[3],q[8];\\nu(0,0.96224849,-0.96224849) q[3];\\nu(pi/2,0,-3.0740219) q[8];\\ncx q[6],q[8];\\nu(3.120935,-pi,-pi/2) q[6];\\nu(1.50338,1.5030715,-3.1370234) q[8];\\ncx q[6],q[8];\\nu(pi,2.5543662,-2.1580228) q[6];\\nu(pi/2,1.6590247,0) q[8];\\ncx q[7],q[8];\\ncx q[6],q[8];\\ncx q[3],q[8];\\ncx q[2],q[8];\\ncx q[1],q[8];\\nu(pi/2,pi/2,-pi/2) q[1];\\nu(pi/2,pi/2,-pi/2) q[3];\\nu(pi/2,pi/2,-pi/2) q[6];\\nu(pi/2,0,pi/2) q[8];\\nu(pi/2,pi/2,-pi/2) q[9];\\ncx q[1],q[9];\\nu(pi/2,1.4998704,-pi) q[1];\\ncx q[2],q[9];\\ncx q[3],q[9];\\nu(0,0.96224849,-0.96224849) q[3];\\nu(3.0740219,pi/2,0) q[9];\\ncx q[8],q[9];\\nu(3.1346599,-pi,-pi/2) q[8];\\nu(1.5707947,1.5703282,-1.5777133) q[9];\\ncx q[8],q[9];\\nu(pi,-0.94472201,-2.5155183) q[8];\\nu(pi/2,-3.0740219,0) q[9];\\ncx q[3],q[9];\\nu(pi/2,-pi/2,pi/2) q[3];\\nu(1.6383671,-pi/2,pi/2) q[9];\\ncx q[1],q[9];\\nu(pi/2,0,-3.0706667) q[1];\\nu(1.6383671,pi/2,-pi/2) q[9];\\ncx q[3],q[9];\\nu(0,0.96224849,-0.96224849) q[3];\\nu(3.0740219,pi/2,-pi) q[9];\\ncx q[8],q[9];\\nu(3.1346599,-pi,-pi/2) q[8];\\nu(1.5707947,1.5703282,-1.5777133) q[9];\\ncx q[8],q[9];\\nu(pi/2,pi/2,0) q[8];\\nu(pi/2,-0.067570782,-pi) q[9];\\ncx q[3],q[9];\\ncx q[1],q[9];\\nu(pi/2,pi/2,-pi/2) q[1];\\ncx q[1],q[6];\\nu(pi/2,1.4998704,-pi) q[1];\\ncx q[2],q[6];\\nu(pi/2,0,pi) q[3];\\ncx q[3],q[6];\\ncx q[4],q[6];\\nu(0,0.96224849,-0.96224849) q[4];\\nu(3.0740219,pi/2,-pi) q[6];\\ncx q[5],q[6];\\nu(3.1373704,-pi,-pi/2) q[5];\\nu(pi/2,1.5705112,-1.575009) q[6];\\ncx q[5],q[6];\\nu(pi,1.5401422,3.1109385) q[5];\\nu(pi/2,-0.067570782,-pi) q[6];\\ncx q[4],q[6];\\nu(pi/2,-pi/2,pi/2) q[4];\\nu(1.6383671,-pi/2,pi/2) q[6];\\ncx q[1],q[6];\\nu(pi/2,0,-3.0706667) q[1];\\nu(1.6383671,pi/2,-pi/2) q[6];\\ncx q[4],q[6];\\nu(0,0.96224849,-0.96224849) q[4];\\nu(3.0740219,pi/2,-pi) q[6];\\ncx q[5],q[6];\\nu(3.1373704,-pi,-pi/2) q[5];\\nu(pi/2,1.5705112,-1.575009) q[6];\\ncx q[5],q[6];\\nu(pi,-0.45790725,-0.45790725) q[5];\\nu(pi/2,-0.067570782,-pi) q[6];\\ncx q[4],q[6];\\ncx q[3],q[6];\\ncx q[2],q[6];\\ncx q[1],q[6];\\nu(pi/2,pi/2,-pi/2) q[1];\\nu(pi/2,pi/2,-pi/2) q[4];\\nu(pi/2,0,pi) q[6];\\nu(pi/2,pi/2,-pi/2) q[9];\\ncx q[1],q[9];\\nu(pi/2,1.4998704,-pi) q[1];\\ncx q[3],q[9];\\ncx q[4],q[9];\\nu(0,0.96224849,-0.96224849) q[4];\\ncx q[5],q[9];\\nu(pi,-2.9441971,0.19739556) q[5];\\ncx q[6],q[9];\\ncx q[7],q[9];\\ncx q[8],q[9];\\nu(pi/2,0,-3.0895508) q[9];\\ncx q[5],q[9];\\nu(3.1260638,-pi,-pi/2) q[5];\\nu(1.50338,1.5030715,-3.1370234) q[9];\\ncx q[5],q[9];\\nu(pi/2,0,pi/2) q[5];\\nu(pi/2,-1.6383671,-pi) q[9];\\ncx q[4],q[9];\\nu(pi/2,-pi/2,pi/2) q[4];\\nu(1.6383671,-pi/2,pi/2) q[9];\\ncx q[1],q[9];\\nu(0,-0.53865648,2.1094528) q[1];\\nu(1.6383671,pi/2,-pi/2) q[9];\\ncx q[4],q[9];\\nu(0,0.96224849,-0.96224849) q[4];\\nu(pi/2,-pi,3.0740219) q[9];\\ncx q[5],q[9];\\nu(3.1260638,-pi,-pi/2) q[5];\\nu(1.50338,1.5030715,-3.1370234) q[9];\\ncx q[5],q[9];\\nu(0,-0.8823788,2.4531751) q[5];\\nu(pi/2,1.6228382,0) q[9];\\ncx q[6],q[9];\\ncx q[5],q[9];\\ncx q[4],q[9];\\nu(pi/2,pi/2,-pi/2) q[4];\\nu(pi/2,0,pi) q[5];\\nu(pi/2,pi/2,pi/2) q[6];\\nu(1.6383671,-pi/2,pi/2) q[9];\\ncx q[1],q[9];\\nu(0,-0.53865648,-1.0321398) q[1];\\nu(1.5032255,-pi/2,pi/2) q[9];\\ncx q[4],q[9];\\nu(0,0.96224849,-0.96224849) q[4];\\nu(3.0740219,pi/2,0) q[9];\\ncx q[6],q[9];\\nu(3.1284412,-pi,-pi/2) q[6];\\nu(1.5707905,1.5699084,-1.5839178) q[9];\\ncx q[6],q[9];\\nu(pi/2,-1.0746959e-13,-pi/2) q[6];\\nu(pi/2,-3.0740219,0) q[9];\\ncx q[4],q[9];\\nu(pi/2,-pi/2,pi/2) q[4];\\nu(1.6383671,-pi/2,pi/2) q[9];\\ncx q[1],q[9];\\nu(pi/2,0,-3.0706667) q[1];\\nu(1.6383671,pi/2,-pi/2) q[9];\\ncx q[4],q[9];\\nu(0,0.96224849,-0.96224849) q[4];\\nu(pi/2,-pi,3.0740219) q[9];\\ncx q[6],q[9];\\nu(3.1284412,-pi,-pi/2) q[6];\\nu(1.50338,1.5030715,-3.1370234) q[9];\\ncx q[6],q[9];\\nu(pi,0,-pi/2) q[6];\\nu(pi/2,-1.6252156,-pi) q[9];\\ncx q[8],q[9];\\ncx q[7],q[9];\\ncx q[6],q[9];\\ncx q[4],q[9];\\ncx q[3],q[9];\\ncx q[2],q[9];\\ncx q[1],q[9];\\nu(pi/2,pi/2,-pi/2) q[1];\\nu(pi/2,pi/2,-pi/2) q[4];\\ncx q[1],q[4];\\nu(pi/2,2.5320819,0) q[1];\\ncx q[2],q[4];\\ncx q[3],q[4];\\nu(2.0909672,-pi/2,1.6179112) q[4];\\ncx q[1],q[4];\\nu(pi/2,-pi,-0.96128555) q[1];\\nu(2.0909672,1.6179112,-pi/2) q[4];\\ncx q[3],q[4];\\ncx q[2],q[4];\\ncx q[1],q[4];\\nu(pi/2,pi/2,-pi/2) q[1];\\nu(pi/2,pi/2,-pi/2) q[4];\\nu(pi/2,0,pi) q[6];\\nu(pi/2,0,pi) q[9];\\ncx q[1],q[9];\\nu(pi/2,pi/2,0) q[1];\\ncx q[2],q[9];\\ncx q[3],q[9];\\ncx q[4],q[9];\\nu(0,0,0.021778815432189) q[9];\\ncx q[4],q[9];\\ncx q[3],q[9];\\ncx q[2],q[9];\\nu(pi/2,-pi/2,pi/2) q[4];\\nu(1.5032255,pi/2,pi/2) q[9];\\ncx q[1],q[9];\\nu(pi/2,-pi,-pi) q[1];\\nu(3.0740219,pi/2,pi/2) q[9];\\ncx q[2],q[9];\\ncx q[3],q[9];\\ncx q[4],q[9];\\nu(0,0,0.021778815432189) q[9];\\ncx q[4],q[9];\\ncx q[3],q[9];\\ncx q[2],q[9];\\ncx q[1],q[9];\\nu(pi/2,pi/2,-pi/2) q[1];\\ncx q[1],q[8];\\nu(pi/2,pi/2,0) q[1];\\ncx q[2],q[8];\\ncx q[3],q[8];\\nu(pi/2,pi/2,-pi/2) q[4];\\ncx q[4],q[8];\\nu(0,0,-0.0007037787056779) q[8];\\ncx q[4],q[8];\\ncx q[3],q[8];\\ncx q[2],q[8];\\nu(pi/2,-pi/2,pi/2) q[4];\\nu(1.5032255,pi/2,pi/2) q[8];\\ncx q[1],q[8];\\nu(pi/2,-pi,-pi) q[1];\\nu(3.0740219,pi/2,pi/2) q[8];\\ncx q[2],q[8];\\ncx q[3],q[8];\\ncx q[4],q[8];\\nu(0,0,-0.0007037787056779) q[8];\\ncx q[4],q[8];\\ncx q[3],q[8];\\ncx q[2],q[8];\\ncx q[1],q[8];\\nu(pi/2,pi/2,-pi/2) q[1];\\ncx q[1],q[7];\\nu(pi/2,pi/2,0) q[1];\\ncx q[2],q[7];\\ncx q[3],q[7];\\nu(pi/2,pi/2,-pi/2) q[4];\\ncx q[4],q[7];\\nu(0,0,-0.0007037787056779) q[7];\\ncx q[4],q[7];\\ncx q[3],q[7];\\ncx q[2],q[7];\\nu(pi/2,-pi/2,pi/2) q[4];\\nu(1.5032255,pi/2,pi/2) q[7];\\ncx q[1],q[7];\\nu(pi/2,-pi,-pi) q[1];\\nu(3.0740219,pi/2,pi/2) q[7];\\ncx q[2],q[7];\\ncx q[3],q[7];\\ncx q[4],q[7];\\nu(0,0,-0.0007037787056779) q[7];\\ncx q[4],q[7];\\ncx q[3],q[7];\\ncx q[2],q[7];\\ncx q[1],q[7];\\nu(pi/2,pi/2,-pi/2) q[1];\\ncx q[1],q[6];\\nu(pi/2,pi/2,0) q[1];\\ncx q[2],q[6];\\ncx q[3],q[6];\\nu(pi/2,pi/2,-pi/2) q[4];\\ncx q[4],q[6];\\nu(0,0,-0.0180240855852761) q[6];\\ncx q[4],q[6];\\ncx q[3],q[6];\\ncx q[2],q[6];\\nu(pi/2,-pi/2,pi/2) q[4];\\nu(1.5032255,pi/2,pi/2) q[6];\\ncx q[1],q[6];\\nu(pi/2,-pi,-pi) q[1];\\nu(3.0740219,pi/2,pi/2) q[6];\\ncx q[2],q[6];\\ncx q[3],q[6];\\ncx q[4],q[6];\\nu(0,0,-0.0180240855852761) q[6];\\ncx q[4],q[6];\\ncx q[3],q[6];\\ncx q[2],q[6];\\ncx q[1],q[6];\\nu(pi/2,pi/2,-pi/2) q[1];\\ncx q[1],q[5];\\nu(pi/2,pi/2,0) q[1];\\ncx q[2],q[5];\\ncx q[3],q[5];\\nu(pi/2,pi/2,-pi/2) q[4];\\ncx q[4],q[5];\\nu(0,0,0.0254678279585906) q[5];\\ncx q[4],q[5];\\ncx q[3],q[5];\\ncx q[2],q[5];\\nu(pi/2,-pi/2,pi/2) q[4];\\nu(1.5032255,pi/2,pi/2) q[5];\\ncx q[1],q[5];\\nu(pi/2,-pi,-pi) q[1];\\nu(3.0740219,pi/2,pi/2) q[5];\\ncx q[2],q[5];\\ncx q[3],q[5];\\ncx q[4],q[5];\\nu(0,0,0.0254678279585906) q[5];\\ncx q[4],q[5];\\ncx q[3],q[5];\\ncx q[2],q[5];\\ncx q[1],q[5];\\nu(pi/2,pi/2,-pi/2) q[1];\\nu(pi/2,pi/2,-pi/2) q[4];\\ncx q[1],q[4];\\nu(pi/2,2.5320819,0) q[1];\\ncx q[2],q[4];\\nu(2.0909672,-pi/2,1.5631598) q[4];\\ncx q[1],q[4];\\nu(pi,-2.8641724,0.95785696) q[1];\\nu(2.0909672,1.5631598,-pi/2) q[4];\\ncx q[2],q[4];\\nu(pi/2,0,pi/2) q[2];\\nu(1.6383671,-pi/2,pi/2) q[4];\\ncx q[1],q[4];\\nu(pi,-0.28186997,-2.7430259) q[1];\\nu(1.5032255,-pi/2,pi/2) q[4];\\ncx q[3],q[4];\\nu(2.0909672,-pi/2,1.5631598) q[4];\\ncx q[1],q[4];\\nu(pi/2,-pi,-0.96128555) q[1];\\nu(2.0909672,1.5631598,-pi/2) q[4];\\ncx q[3],q[4];\\ncx q[1],q[4];\\nu(pi/2,0,pi) q[1];\\nu(pi/2,0,pi/2) q[3];\\nu(pi/2,pi/2,-pi/2) q[4];\\nu(pi/2,0,pi/2) q[5];\\nu(pi/2,-pi/2,pi/2) q[7];\\nu(pi/2,0,pi/2) q[8];\\ncx q[2],q[8];\\nu(pi/2,1.4998704,-pi) q[2];\\ncx q[3],q[8];\\nu(0,0.96224849,-0.96224849) q[3];\\nu(3.0740219,pi/2,-pi) q[8];\\ncx q[7],q[8];\\nu(3.1331581,-pi,-pi/2) q[7];\\nu(1.5707939,1.5702268,-1.5792116) q[8];\\ncx q[7],q[8];\\nu(pi,-2.6674903,-1.0966939) q[7];\\nu(pi/2,-0.067570782,-pi) q[8];\\ncx q[3],q[8];\\nu(pi/2,-pi/2,pi/2) q[3];\\nu(1.6383671,-pi/2,pi/2) q[8];\\ncx q[2],q[8];\\nu(pi/2,0,-3.0706667) q[2];\\nu(1.6383671,pi/2,-pi/2) q[8];\\ncx q[3],q[8];\\nu(0,0.96224849,-0.96224849) q[3];\\nu(3.0740219,pi/2,-pi) q[8];\\ncx q[7],q[8];\\nu(3.1331581,-pi,-pi/2) q[7];\\nu(1.5707939,1.5702268,-1.5792116) q[8];\\ncx q[7],q[8];\\nu(pi,-2.4809076,-2.4809076) q[7];\\nu(pi/2,-0.067570782,-pi) q[8];\\ncx q[3],q[8];\\ncx q[2],q[8];\\nu(pi/2,pi/2,-pi/2) q[2];\\ncx q[2],q[7];\\nu(pi/2,1.4998704,-pi) q[2];\\nu(pi/2,0,pi) q[3];\\ncx q[3],q[7];\\ncx q[4],q[7];\\nu(0,0.96224849,-0.96224849) q[4];\\ncx q[5],q[7];\\nu(0,-pi/4,-3*pi/4) q[5];\\ncx q[6],q[7];\\nu(pi/2,-pi,-0.077330263) q[7];\\ncx q[5],q[7];\\nu(3.1318332,-pi,-pi/2) q[5];\\nu(1.50338,1.5030715,-3.1370234) q[7];\\ncx q[5],q[7];\\nu(pi/2,0,pi/2) q[5];\\nu(pi/2,-1.5032255,0) q[7];\\ncx q[4],q[7];\\nu(pi/2,-pi/2,pi/2) q[4];\\nu(1.6383671,-pi/2,pi/2) q[7];\\ncx q[2],q[7];\\nu(0,-0.53865648,2.1094528) q[2];\\nu(1.6383671,pi/2,-pi/2) q[7];\\ncx q[4],q[7];\\nu(0,0.96224849,-0.96224849) q[4];\\nu(pi/2,0,0.067570782) q[7];\\ncx q[5],q[7];\\nu(3.1318332,-pi,-pi/2) q[5];\\nu(1.50338,1.5030715,-3.1370234) q[7];\\ncx q[5],q[7];\\nu(pi,-0.62784141,0.94295491) q[5];\\nu(pi/2,1.4934661,-pi) q[7];\\ncx q[6],q[7];\\ncx q[5],q[7];\\ncx q[4],q[7];\\nu(pi/2,pi/2,-pi/2) q[4];\\nu(pi/2,pi/2,-pi/2) q[5];\\nu(pi/2,pi/2,-pi/2) q[6];\\nu(1.6383671,-pi/2,pi/2) q[7];\\ncx q[2],q[7];\\nu(0,-0.53865648,-1.0321398) q[2];\\nu(1.5032255,-pi/2,pi/2) q[7];\\ncx q[4],q[7];\\nu(0,0.96224849,-0.96224849) q[4];\\nu(3.0740219,pi/2,0) q[7];\\ncx q[6],q[7];\\nu(3.1346599,-pi,-pi/2) q[6];\\nu(1.5707947,1.5703282,-1.5777133) q[7];\\ncx q[6],q[7];\\nu(pi,-0.94472201,-2.5155183) q[6];\\nu(pi/2,-3.0740219,0) q[7];\\ncx q[4],q[7];\\nu(pi/2,-pi/2,pi/2) q[4];\\nu(1.6383671,-pi/2,pi/2) q[7];\\ncx q[2],q[7];\\nu(pi/2,0,-3.0706667) q[2];\\nu(1.6383671,pi/2,-pi/2) q[7];\\ncx q[4],q[7];\\nu(0,0.96224849,-0.96224849) q[4];\\nu(3.0740219,pi/2,-pi) q[7];\\ncx q[6],q[7];\\nu(3.1346599,-pi,-pi/2) q[6];\\nu(1.5707947,1.5703282,-1.5777133) q[7];\\ncx q[6],q[7];\\nu(pi/2,pi/2,0) q[6];\\nu(pi/2,-0.067570782,-pi) q[7];\\ncx q[4],q[7];\\ncx q[3],q[7];\\ncx q[2],q[7];\\nu(pi/2,pi/2,-pi/2) q[2];\\nu(pi/2,pi/2,-pi/2) q[4];\\nu(pi/2,pi/2,-pi/2) q[7];\\nu(pi/2,0,pi) q[8];\\nu(pi/2,0,pi/2) q[9];\\ncx q[2],q[9];\\nu(pi/2,1.4998704,-pi) q[2];\\ncx q[3],q[9];\\ncx q[4],q[9];\\nu(0,0.96224849,-0.96224849) q[4];\\ncx q[7],q[9];\\nu(pi,3*pi/4,-pi/4) q[7];\\ncx q[8],q[9];\\nu(pi/2,-pi,-0.057834177) q[9];\\ncx q[7],q[9];\\nu(3.131856,-pi,-pi/2) q[7];\\nu(1.50338,1.5030715,-3.1370234) q[9];\\ncx q[7],q[9];\\nu(pi/2,-pi,-pi/2) q[7];\\nu(pi/2,1.5032255,-pi) q[9];\\ncx q[4],q[9];\\nu(pi/2,-pi/2,pi/2) q[4];\\nu(1.6383671,-pi/2,pi/2) q[9];\\ncx q[2],q[9];\\nu(pi/2,0,-3.0706667) q[2];\\nu(1.6383671,pi/2,-pi/2) q[9];\\ncx q[4],q[9];\\nu(0,0.96224849,-0.96224849) q[4];\\nu(pi/2,-pi,-0.067570782) q[9];\\ncx q[7],q[9];\\nu(3.131856,-pi,-pi/2) q[7];\\nu(1.50338,1.5030715,-3.1370234) q[9];\\ncx q[7],q[9];\\nu(0,2.0969305,-0.5261342) q[7];\\nu(pi/2,1.5129621,-pi) q[9];\\ncx q[8],q[9];\\ncx q[7],q[9];\\ncx q[4],q[9];\\ncx q[3],q[9];\\ncx q[2],q[9];\\nu(pi/2,0,pi) q[2];\\nu(pi/2,0,pi/2) q[3];\\nu(pi/2,pi/2,-pi/2) q[4];\\nu(pi/2,0,pi) q[7];\\nu(pi/2,0,pi/2) q[8];\\ncx q[3],q[8];\\nu(pi/2,1.4998704,-pi) q[3];\\ncx q[4],q[8];\\nu(0,0.96224849,-0.96224849) q[4];\\ncx q[5],q[8];\\nu(0,-pi/4,-3*pi/4) q[5];\\ncx q[6],q[8];\\ncx q[7],q[8];\\nu(pi/2,-pi,-0.077330263) q[8];\\ncx q[5],q[8];\\nu(3.1318332,-pi,-pi/2) q[5];\\nu(1.50338,1.5030715,-3.1370234) q[8];\\ncx q[5],q[8];\\nu(pi/2,0,pi/2) q[5];\\nu(pi/2,-1.5032255,0) q[8];\\ncx q[4],q[8];\\nu(pi/2,-pi/2,pi/2) q[4];\\nu(1.6383671,-pi/2,pi/2) q[8];\\ncx q[3],q[8];\\nu(0,-0.53865648,2.1094528) q[3];\\nu(1.6383671,pi/2,-pi/2) q[8];\\ncx q[4],q[8];\\nu(0,0.96224849,-0.96224849) q[4];\\nu(pi/2,0,0.067570782) q[8];\\ncx q[5],q[8];\\nu(3.1318332,-pi,-pi/2) q[5];\\nu(1.50338,1.5030715,-3.1370234) q[8];\\ncx q[5],q[8];\\nu(pi,-0.62784141,0.94295491) q[5];\\nu(pi/2,1.4934661,-pi) q[8];\\ncx q[6],q[8];\\ncx q[5],q[8];\\ncx q[4],q[8];\\nu(pi/2,pi/2,-pi/2) q[4];\\nu(pi/2,-pi,pi/2) q[5];\\nu(pi/2,pi/2,-pi/2) q[6];\\nu(1.6383671,-pi/2,pi/2) q[8];\\ncx q[3],q[8];\\nu(0,-0.53865648,-1.0321398) q[3];\\nu(1.5032255,-pi/2,pi/2) q[8];\\ncx q[4],q[8];\\nu(0,0.96224849,-0.96224849) q[4];\\nu(3.0740219,pi/2,0) q[8];\\ncx q[6],q[8];\\nu(3.1346599,-pi,-pi/2) q[6];\\nu(1.5707947,1.5703282,-1.5777133) q[8];\\ncx q[6],q[8];\\nu(pi/2,-pi,-pi/2) q[6];\\nu(pi/2,-3.0740219,0) q[8];\\ncx q[4],q[8];\\nu(pi/2,-pi/2,pi/2) q[4];\\nu(1.6383671,-pi/2,pi/2) q[8];\\ncx q[3],q[8];\\nu(pi/2,0,-3.0706667) q[3];\\nu(1.6383671,pi/2,-pi/2) q[8];\\ncx q[4],q[8];\\nu(0,0.96224849,-0.96224849) q[4];\\nu(pi/2,1.0214052e-14,-3.0740219) q[8];\\ncx q[6],q[8];\\nu(3.1346599,-pi,-pi/2) q[6];\\nu(1.50338,1.5030715,-3.1370234) q[8];\\ncx q[6],q[8];\\nu(0,0.52383482,-2.0946312) q[6];\\nu(pi/2,-1.6452999,-pi) q[8];\\ncx q[7],q[8];\\ncx q[6],q[8];\\ncx q[4],q[8];\\ncx q[3],q[8];\\nu(pi/2,pi/2,-pi/2) q[3];\\nu(pi/2,pi/2,-pi/2) q[4];\\nu(pi/2,0,1.6383671) q[6];\\ncx q[5],q[6];\\nu(3.1317575,-pi,-pi/2) q[5];\\nu(1.5707931,1.5701323,-1.580609) q[6];\\ncx q[5],q[6];\\nu(8.963151e-14,1.1901137,1.9514789) q[5];\\nu(1.5032255,pi/126325674143365,pi/2) q[6];\\nu(pi/2,-pi,-pi/2) q[8];\\nu(pi/2,pi/2,-pi/2) q[9];\\ncx q[3],q[9];\\nu(pi/2,1.4998704,-pi) q[3];\\ncx q[4],q[9];\\nu(0,0.96224849,-0.96224849) q[4];\\nu(3.0740219,pi/2,0) q[9];\\ncx q[8],q[9];\\nu(3.131856,-pi,-pi/2) q[8];\\nu(1.5707931,1.5701389,-1.5805107) q[9];\\ncx q[8],q[9];\\nu(pi,-3.118439,1.59395) q[8];\\nu(pi/2,-3.0740219,0) q[9];\\ncx q[4],q[9];\\nu(pi/2,-pi/2,pi/2) q[4];\\nu(1.6383671,-pi/2,pi/2) q[9];\\ncx q[3],q[9];\\nu(pi/2,0,-3.0706667) q[3];\\nu(1.6383671,pi/2,-pi/2) q[9];\\ncx q[4],q[9];\\nu(0,0.96224849,-0.96224849) q[4];\\nu(3.0740219,pi/2,-pi) q[9];\\ncx q[8],q[9];\\nu(3.131856,-pi,-pi/2) q[8];\\nu(1.5707931,1.5701389,-1.5805107) q[9];\\ncx q[8],q[9];\\nu(pi/2,-pi/2,2.9753977e-14) q[8];\\nu(pi/2,-0.067570782,-pi) q[9];\\ncx q[4],q[9];\\ncx q[3],q[9];\\nu(pi/2,0,pi) q[3];\\nu(pi/2,0,pi) q[4];\\nu(pi/2,0,pi) q[9];\\ncx q[5],q[9];\\nu(pi/2,pi/2,0) q[5];\\ncx q[6],q[9];\\nu(0,0,0.0055514924538099) q[9];\\ncx q[6],q[9];\\nu(pi/2,-pi/2,pi/2) q[6];\\nu(1.5032255,pi/2,pi/2) q[9];\\ncx q[5],q[9];\\nu(pi/2,-pi,-pi) q[5];\\nu(3.0740219,pi/2,pi/2) q[9];\\ncx q[6],q[9];\\nu(0,0,0.0055514924538099) q[9];\\ncx q[6],q[9];\\ncx q[5],q[9];\\nu(pi/2,pi/2,-pi/2) q[5];\\ncx q[5],q[8];\\nu(pi/2,pi/2,0) q[5];\\nu(pi/2,pi/2,-pi/2) q[6];\\ncx q[6],q[8];\\nu(0,0,0.00724049751176742) q[8];\\ncx q[6],q[8];\\nu(pi/2,-pi/2,pi/2) q[6];\\nu(1.5032255,pi/2,pi/2) q[8];\\ncx q[5],q[8];\\nu(pi/2,-pi,-pi) q[5];\\nu(3.0740219,pi/2,pi/2) q[8];\\ncx q[6],q[8];\\nu(0,0,0.00724049751176742) q[8];\\ncx q[6],q[8];\\ncx q[5],q[8];\\nu(pi/2,pi/2,-pi/2) q[5];\\ncx q[5],q[7];\\nu(pi/2,pi/2,0) q[5];\\nu(pi/2,pi/2,-pi/2) q[6];\\ncx q[6],q[7];\\nu(0,0,0.00724049751176742) q[7];\\ncx q[6],q[7];\\nu(pi/2,-pi/2,pi/2) q[6];\\nu(1.5032255,pi/2,pi/2) q[7];\\ncx q[5],q[7];\\nu(pi/2,-pi,-pi) q[5];\\nu(3.0740219,pi/2,pi/2) q[7];\\ncx q[6],q[7];\\nu(0,0,0.00724049751176742) q[7];\\ncx q[6],q[7];\\ncx q[5],q[7];\\nu(pi/2,pi/2,-pi/2) q[5];\\nu(pi/2,0,pi) q[6];\\nu(pi/2,0,pi/2) q[9];\\ncx q[5],q[9];\\nu(pi/2,2.5320819,0) q[5];\\ncx q[6],q[9];\\ncx q[7],q[9];\\ncx q[8],q[9];\\nu(2.0909672,-pi/2,1.5588983) q[9];\\ncx q[5],q[9];\\nu(pi,-2.8641724,0.95785696) q[5];\\nu(2.0909672,1.5588983,-pi/2) q[9];\\ncx q[8],q[9];\\nu(1.6383671,-pi/2,pi/2) q[9];\\ncx q[5],q[9];\\nu(pi,-0.28186997,-2.7430259) q[5];\\nu(2.6889743,1.5806059,-1.5622647) q[9];\\ncx q[5],q[9];\\nu(pi,-2.8641724,0.95785696) q[5];\\nu(2.0909672,1.5664966,-pi/2) q[9];\\ncx q[7],q[9];\\nu(1.6383671,-pi/2,pi/2) q[9];\\ncx q[5],q[9];\\nu(pi,-0.28186997,-2.7430259) q[5];\\nu(1.5032255,-pi/2,pi/2) q[9];\\ncx q[8],q[9];\\nu(2.0909672,-pi/2,1.5664966) q[9];\\ncx q[5],q[9];\\nu(pi,-2.8641724,0.95785696) q[5];\\nu(2.0909672,1.5664966,-pi/2) q[9];\\ncx q[6],q[9];\\nu(pi/2,0,pi/2) q[6];\\nu(1.6383671,-pi/2,pi/2) q[9];\\ncx q[5],q[9];\\nu(pi,-0.28186997,-2.7430259) q[5];\\nu(1.5032255,-pi/2,pi/2) q[9];\\ncx q[7],q[9];\\nu(2.0909672,-pi/2,1.5797545) q[9];\\ncx q[5],q[9];\\nu(pi/2,-pi,-0.96128555) q[5];\\nu(2.0909672,1.5797545,-pi/2) q[9];\\ncx q[5],q[9];\\nu(pi/2,0,pi) q[5];\\nu(pi/2,pi/2,-pi/2) q[9];\\ncx q[6],q[9];\\nu(pi/2,2.5320819,0) q[6];\\nu(2.0909672,-pi/2,1.6179112) q[9];\\ncx q[6],q[9];\\nu(pi,-2.8641724,0.95785696) q[6];\\nu(2.0909672,1.6179112,-pi/2) q[9];\\ncx q[8],q[9];\\nu(1.6383671,-pi/2,pi/2) q[9];\\ncx q[6],q[9];\\nu(pi,-0.28186997,-2.7430259) q[6];\\nu(2.6889349,1.5882179,-1.5556446) q[9];\\ncx q[6],q[9];\\nu(pi,-2.8641724,0.95785696) q[6];\\nu(2.0909672,1.5631598,-pi/2) q[9];\\ncx q[7],q[9];\\nu(0,0,-0.848963506345427) q[7];\\nu(1.6383671,-pi/2,pi/2) q[9];\\ncx q[6],q[9];\\nu(pi,-0.28186997,-2.7430259) q[6];\\nu(1.5032255,-pi/2,pi/2) q[9];\\ncx q[8],q[9];\\nu(2.0909672,-pi/2,1.5631598) q[9];\\ncx q[6],q[9];\\nu(pi/2,-pi,-0.96128555) q[6];\\nu(2.0909672,1.5631598,-pi/2) q[9];\\ncx q[8],q[9];\\ncx q[6],q[9];\\nu(pi/2,-0.77983553,-pi) q[6];\\nu(0,0,-0.848963506345427) q[8];\\nu(pi/2,-1.1545842,-pi) q[9];\\ncx q[8],q[9];\\nu(0,0,0.124910250462739) q[9];\\ncx q[8],q[9];\\ncx q[7],q[9];\\nu(0,0,0.124910250462739) q[9];\\ncx q[7],q[9];\\ncx q[6],q[9];\\ncx q[7],q[8];\\nu(0,0,0.131169046309168) q[8];\\ncx q[7],q[8];\\nu(0,0,0.107859721547177) q[9];\\ncx q[6],q[9];\\ncx q[6],q[8];\\nu(0,0,0.120451002799092) q[8];\\ncx q[6],q[8];\\ncx q[6],q[7];\\nu(0,0,0.120451002799092) q[7];\\ncx q[6],q[7];\\nu(pi/2,0,pi/2) q[6];\\nu(pi/2,0,pi/2) q[9];\\ncx q[5],q[9];\\nu(pi,-1.197748,-2.7685444) q[5];\\ncx q[6],q[9];\\nu(pi/2,0.30707466,0) q[6];\\ncx q[7],q[9];\\ncx q[8],q[9];\\nu(0.93138097,pi/2,1.5795174) q[9];\\ncx q[6],q[9];\\nu(pi/2,-pi,-1.877871) q[6];\\nu(0.93138097,1.5795174,pi/2) q[9];\\ncx q[8],q[9];\\ncx q[7],q[9];\\ncx q[6],q[9];\\nu(pi/2,0,pi) q[6];\\nu(1.5057466,1.8452166,-0.018298026) q[9];\\ncx q[5],q[9];\\nu(pi,-pi,-pi/2) q[5];\\nu(1.5146127,1.5040638,-2.970262) q[9];\\ncx q[5],q[9];\\nu(0,-2.7000331,0.52720615) q[5];\\ncx q[5],q[8];\\nu(0,0,0.125577526869424) q[8];\\ncx q[5],q[8];\\ncx q[5],q[7];\\nu(0,0,0.125577526869424) q[7];\\ncx q[5],q[7];\\ncx q[5],q[6];\\nu(0,0,0.10724282144523) q[6];\\ncx q[5],q[6];\\nu(pi/2,pi/2,pi/2) q[5];\\nu(pi/2,0,pi/2) q[6];\\ncx q[4],q[6];\\nu(0,-1.4672358,1.4672358) q[4];\\nu(3.0740219,pi/2,0) q[6];\\ncx q[5],q[6];\\nu(3.1205123,-pi,-pi/2) q[5];\\nu(1.5707814,1.5693731,-1.5918286) q[6];\\ncx q[5],q[6];\\nu(pi,0.25672584,-2.8848668) q[5];\\nu(pi/2,-3.0740219,0) q[6];\\ncx q[4],q[6];\\nu(pi/2,0,pi) q[6];\\nu(0.28183536,-1.3255746,-0.23590877) q[9];\\ncx q[4],q[9];\\nu(0,-2.4393433,0.86854699) q[4];\\ncx q[5],q[9];\\nu(pi/2,-1.9188914,-pi) q[5];\\ncx q[6],q[9];\\ncx q[7],q[9];\\ncx q[8],q[9];\\nu(2.0145494,-pi/2,1.5005628) q[9];\\ncx q[5],q[9];\\nu(pi/2,0,0.34809503) q[5];\\nu(1.1270433,-1.6410299,pi/2) q[9];\\ncx q[6],q[9];\\ncx q[5],q[9];\\nu(pi/2,0,pi) q[5];\\nu(pi/2,pi/2,0) q[6];\\nu(1.6383671,-pi/2,0) q[9];\\ncx q[6],q[9];\\nu(3.1198138,-pi,-pi/2) q[6];\\nu(1.50338,1.5030715,-3.1370234) q[9];\\ncx q[6],q[9];\\nu(0,2.4702481,-0.8994518) q[6];\\nu(pi/2,1.5250044,-pi) q[9];\\ncx q[8],q[9];\\ncx q[7],q[9];\\ncx q[6],q[9];\\nu(pi/2,0,pi) q[6];\\nu(1.5145872,2.1598538,3.1040716) q[9];\\ncx q[4],q[9];\\nu(pi,-pi,-pi/2) q[4];\\nu(1.518646,1.5048899,-2.909465) q[9];\\ncx q[4],q[9];\\nu(pi,1.5008901,1.084678) q[4];\\ncx q[4],q[8];\\nu(0,0,0.134646855552914) q[8];\\ncx q[4],q[8];\\ncx q[4],q[7];\\nu(0,0,0.134646855552914) q[7];\\ncx q[4],q[7];\\ncx q[4],q[6];\\nu(0,0,0.121011211345542) q[6];\\ncx q[4],q[6];\\ncx q[4],q[5];\\nu(0,0,0.228679093699551) q[5];\\ncx q[4],q[5];\\nu(pi/2,pi/2,-pi/2) q[5];\\nu(pi/2,0,pi/2) q[6];\\ncx q[3],q[6];\\nu(0,-1.4672358,1.4672358) q[3];\\nu(3.0740219,pi/2,0) q[6];\\ncx q[5],q[6];\\nu(3.1392281,-pi,-pi/2) q[5];\\nu(pi/2,1.5706367,-1.5731555) q[6];\\ncx q[5],q[6];\\nu(3.9879759e-13,-2.4199221,2.4199221) q[5];\\nu(pi/2,-3.0740219,0) q[6];\\ncx q[3],q[6];\\nu(pi/2,0,pi) q[6];\\nu(0.59141692,1.6921971,-0.10093489) q[9];\\ncx q[3],q[9];\\nu(pi,-0.00082003829,-1.5716164) q[3];\\ncx q[5],q[9];\\nu(pi/2,-1.5034438,-pi) q[5];\\ncx q[6],q[9];\\ncx q[7],q[9];\\ncx q[8],q[9];\\nu(2.8068978,pi/2,-1.5653366) q[9];\\ncx q[5],q[9];\\nu(pi/2,0,-0.067352488) q[5];\\nu(0.33469484,1.5762561,-pi/2) q[9];\\ncx q[6],q[9];\\ncx q[5],q[9];\\nu(pi/2,0,pi) q[5];\\nu(pi/2,-pi/2,-pi) q[6];\\nu(1.5032255,pi/2,0) q[9];\\ncx q[6],q[9];\\nu(3.1408889,-pi,-pi/2) q[6];\\nu(1.50338,1.5030715,-3.1370234) q[9];\\ncx q[6],q[9];\\nu(pi,2.4750444,-2.2373446) q[6];\\nu(pi/2,1.5025218,-pi) q[9];\\ncx q[8],q[9];\\ncx q[7],q[9];\\ncx q[6],q[9];\\nu(pi/2,0,pi) q[6];\\nu(1.5118954,1.0579932,0.033132535) q[9];\\ncx q[3],q[9];\\nu(pi,-pi,-pi/2) q[3];\\nu(1.5124411,1.5037237,-3.0027239) q[9];\\ncx q[3],q[9];\\nu(0,-1.8388256,-0.58093426) q[3];\\ncx q[3],q[8];\\nu(0,0,0.156472755579705) q[8];\\ncx q[3],q[8];\\ncx q[3],q[7];\\nu(0,0,0.139603616066014) q[7];\\ncx q[3],q[7];\\ncx q[3],q[6];\\nu(0,0,0.141108641443695) q[6];\\ncx q[3],q[6];\\ncx q[3],q[5];\\nu(0,0,0.137571048568893) q[5];\\ncx q[3],q[5];\\ncx q[3],q[4];\\nu(0,0,0.124910250462739) q[4];\\ncx q[3],q[4];\\nu(pi/2,pi/2,-pi/2) q[5];\\nu(pi/2,0,pi/2) q[6];\\ncx q[2],q[6];\\nu(0,-1.4672358,1.4672358) q[2];\\nu(3.0740219,pi/2,0) q[6];\\ncx q[5],q[6];\\nu(3.1392281,-pi,-pi/2) q[5];\\nu(pi/2,1.5706367,-1.5731555) q[6];\\ncx q[5],q[6];\\nu(3.9879759e-13,-2.4199221,2.4199221) q[5];\\nu(pi/2,-3.0740219,0) q[6];\\ncx q[2],q[6];\\nu(pi/2,0,pi) q[6];\\nu(0.51587472,1.4334913,-3.0219739) q[9];\\ncx q[2],q[9];\\nu(pi,-0.00082003829,-1.5716164) q[2];\\ncx q[5],q[9];\\nu(pi/2,-1.5034438,-pi) q[5];\\ncx q[6],q[9];\\ncx q[7],q[9];\\ncx q[8],q[9];\\nu(2.8068978,pi/2,-1.5653366) q[9];\\ncx q[5],q[9];\\nu(pi/2,0,-0.067352488) q[5];\\nu(0.33469484,1.5762561,-pi/2) q[9];\\ncx q[6],q[9];\\ncx q[5],q[9];\\nu(pi/2,0,pi) q[5];\\nu(pi/2,-pi/2,-pi) q[6];\\nu(1.5032255,pi/2,0) q[9];\\ncx q[6],q[9];\\nu(3.1408889,-pi,-pi/2) q[6];\\nu(1.50338,1.5030715,-3.1370234) q[9];\\ncx q[6],q[9];\\nu(pi,2.4750444,-2.2373446) q[6];\\nu(pi/2,1.5025218,-pi) q[9];\\ncx q[8],q[9];\\ncx q[7],q[9];\\ncx q[6],q[9];\\nu(pi/2,0,pi) q[6];\\nu(1.5118954,1.0579932,0.033132535) q[9];\\ncx q[2],q[9];\\nu(pi,-pi,-pi/2) q[2];\\nu(1.5124411,1.5037237,-3.0027239) q[9];\\ncx q[2],q[9];\\nu(0,-1.8388256,-0.58093426) q[2];\\ncx q[2],q[8];\\nu(0,0,0.139603616066014) q[8];\\ncx q[2],q[8];\\ncx q[2],q[7];\\nu(0,0,0.156472755579705) q[7];\\ncx q[2],q[7];\\ncx q[2],q[6];\\nu(0,0,0.141108641443695) q[6];\\ncx q[2],q[6];\\ncx q[2],q[5];\\nu(0,0,0.137571048568893) q[5];\\ncx q[2],q[5];\\ncx q[2],q[4];\\nu(0,0,0.124910250462739) q[4];\\ncx q[2],q[4];\\ncx q[2],q[3];\\nu(0,0,0.131169046309168) q[3];\\ncx q[2],q[3];\\nu(pi/2,pi/2,-pi/2) q[5];\\nu(pi/2,0,pi/2) q[6];\\ncx q[1],q[6];\\nu(0,-1.4672358,1.4672358) q[1];\\nu(3.0740219,pi/2,0) q[6];\\ncx q[5],q[6];\\nu(3.1385113,-pi,-pi/2) q[5];\\nu(pi/2,1.5705883,-1.5738706) q[6];\\ncx q[5],q[6];\\nu(3.1859276e-13,1.9599961,-1.9599961) q[5];\\nu(pi/2,-3.0740219,0) q[6];\\ncx q[1],q[6];\\nu(pi/2,0,pi) q[6];\\nu(0.51587472,1.4334913,-3.0219739) q[9];\\ncx q[1],q[9];\\nu(pi,-1.9940398,2.7183492) q[1];\\ncx q[5],q[9];\\nu(pi/2,-1.053026,-pi) q[5];\\ncx q[6],q[9];\\ncx q[7],q[9];\\ncx q[8],q[9];\\nu(1.8233441,-pi/2,1.5755322) q[9];\\ncx q[5],q[9];\\nu(pi/2,0,-0.51777028) q[5];\\nu(1.3182486,-1.5660605,pi/2) q[9];\\ncx q[6],q[9];\\ncx q[5],q[9];\\nu(pi/2,0,pi) q[5];\\nu(pi/2,-pi/2,0) q[6];\\nu(1.5032255,pi/2,-pi) q[9];\\ncx q[6],q[9];\\nu(3.1235686,-pi,-pi/2) q[6];\\nu(1.50338,1.5030715,-3.1370234) q[9];\\ncx q[6],q[9];\\nu(0,-pi/2,-pi) q[6];\\nu(pi/2,1.620343,0) q[9];\\ncx q[8],q[9];\\ncx q[7],q[9];\\ncx q[6],q[9];\\nu(pi/2,0,pi) q[6];\\nu(1.6299806,-1.0666254,0.032623162) q[9];\\ncx q[1],q[9];\\nu(pi,-pi,-pi/2) q[1];\\nu(1.5115284,1.5036023,-3.0163213) q[9];\\ncx q[1],q[9];\\nu(0,0.97726235,2.9552911) q[1];\\ncx q[1],q[8];\\nu(0,0,0.141108641443695) q[8];\\ncx q[1],q[8];\\ncx q[1],q[7];\\nu(0,0,0.141108641443695) q[7];\\ncx q[1],q[7];\\ncx q[1],q[6];\\nu(0,0,0.169407836044791) q[6];\\ncx q[1],q[6];\\ncx q[1],q[5];\\nu(0,0,0.113312135105639) q[5];\\ncx q[1],q[5];\\ncx q[1],q[4];\\nu(0,0,0.107859721547177) q[4];\\ncx q[1],q[4];\\ncx q[1],q[3];\\nu(0,0,0.120451002799092) q[3];\\ncx q[1],q[3];\\ncx q[1],q[2];\\nu(0,0,0.120451002799092) q[2];\\ncx q[1],q[2];\\nu(pi/2,0,pi/2) q[1];\\nu(pi/2,0,pi/2) q[4];\\ncx q[0],q[4];\\nu(0,-1.4672358,1.4672358) q[0];\\ncx q[1],q[4];\\nu(pi/2,0.30707466,0) q[1];\\ncx q[2],q[4];\\ncx q[3],q[4];\\nu(0.93138097,pi/2,1.5795174) q[4];\\ncx q[1],q[4];\\nu(pi/2,-pi,-1.877871) q[1];\\nu(0.93138097,1.5795174,pi/2) q[4];\\ncx q[3],q[4];\\ncx q[2],q[4];\\ncx q[1],q[4];\\ncx q[0],q[4];\\nu(pi/2,0,pi) q[1];\\nu(pi/2,0,pi) q[4];\\nu(pi/2,-pi/2,pi/2) q[5];\\nu(pi/2,0,pi/2) q[6];\\ncx q[0],q[6];\\nu(0,-1.4672358,1.4672358) q[0];\\nu(3.0740219,pi/2,-pi) q[6];\\ncx q[5],q[6];\\nu(3.1181254,-pi,-pi/2) q[5];\\nu(1.5707778,1.569212,-1.59421) q[6];\\ncx q[5],q[6];\\nu(pi,-0.21629838,-0.21629838) q[5];\\nu(pi/2,-0.067570782,-pi) q[6];\\ncx q[0],q[6];\\nu(pi/2,0,pi) q[6];\\nu(2.6342573,1.4313734,3.0195449) q[9];\\ncx q[0],q[9];\\nu(pi,-0.5570398,-2.1278361) q[0];\\ncx q[5],q[9];\\nu(pi/2,-0.3568715,0) q[5];\\ncx q[6],q[9];\\ncx q[7],q[9];\\ncx q[8],q[9];\\nu(2.1324181,pi/2,1.5046789) q[9];\\ncx q[5],q[9];\\nu(pi/2,-pi,-1.2139248) q[5];\\nu(2.1324181,1.5046789,pi/2) q[9];\\ncx q[6],q[9];\\ncx q[5],q[9];\\nu(pi/2,0,pi) q[5];\\nu(pi/2,pi/2,0) q[6];\\nu(1.6383671,-pi/2,0) q[9];\\ncx q[6],q[9];\\nu(3.1161248,-pi,-pi/2) q[6];\\nu(1.50338,1.5030715,-3.1370234) q[9];\\ncx q[6],q[9];\\nu(0,1.6968813,-0.12608496) q[6];\\nu(pi/2,1.5286934,-pi) q[9];\\ncx q[8],q[9];\\ncx q[7],q[9];\\ncx q[6],q[9];\\nu(pi/2,0,pi) q[6];\\nu(1.5666941,3.0809378,-0.067446334) q[9];\\ncx q[0],q[9];\\nu(pi,-pi,-pi/2) q[0];\\nu(1.5186786,1.5048976,-2.9089707) q[9];\\ncx q[0],q[9];\\nu(0,2.6847332,1.4256251) q[0];\\ncx q[0],q[8];\\nu(0,0,0.137571048568893) q[8];\\ncx q[0],q[8];\\ncx q[0],q[7];\\nu(0,0,0.137571048568893) q[7];\\ncx q[0],q[7];\\ncx q[0],q[6];\\nu(0,0,0.113312135105639) q[6];\\ncx q[0],q[6];\\ncx q[0],q[5];\\nu(0,0,0.247141744497969) q[5];\\ncx q[0],q[5];\\ncx q[0],q[4];\\nu(0,0,0.167202439344924) q[4];\\ncx q[0],q[4];\\ncx q[0],q[3];\\nu(0,0,0.125577526869424) q[3];\\ncx q[0],q[3];\\ncx q[0],q[2];\\nu(0,0,0.125577526869424) q[2];\\ncx q[0],q[2];\\ncx q[0],q[1];\\nu(0,0,0.10724282144523) q[1];\\ncx q[0],q[1];\\nu(1.5032255,3.0807994,pi/2) q[9];\\n'"
      ]
     },
     "execution_count": 43,
     "metadata": {},
     "output_type": "execute_result"
    }
   ],
   "source": [
    "aer_simulator = Aer.get_backend('aer_simulator')\n",
    "qc_transpiled = transpile(qc, aer_simulator, basis_gates=['u', 'cx'], optimization_level=3)\n",
    "print(qc_transpiled.depth())\n",
    "print(qc_transpiled.count_ops())\n",
    "qc_transpiled.qasm(filename='hamiltonian1.qasm')"
   ]
  },
  {
   "cell_type": "code",
   "execution_count": null,
   "metadata": {},
   "outputs": [],
   "source": []
  }
 ],
 "metadata": {
  "interpreter": {
   "hash": "e9f58865ea4875d320aa3e9d3633f5f2e07aa7495f5958b54d2b5f7d06c02114"
  },
  "kernelspec": {
   "display_name": "Python 3 (ipykernel)",
   "language": "python",
   "name": "python3"
  },
  "language_info": {
   "codemirror_mode": {
    "name": "ipython",
    "version": 3
   },
   "file_extension": ".py",
   "mimetype": "text/x-python",
   "name": "python",
   "nbconvert_exporter": "python",
   "pygments_lexer": "ipython3",
   "version": "3.10.4"
  }
 },
 "nbformat": 4,
 "nbformat_minor": 2
}
