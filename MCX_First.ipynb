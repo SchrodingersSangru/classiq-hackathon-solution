{
 "cells": [
  {
   "cell_type": "markdown",
   "id": "f1454120",
   "metadata": {},
   "source": [
    "# Classiq Coding Competition Spring 2022\n",
    "### First Place MCX Submission by Soshun Naito"
   ]
  },
  {
   "cell_type": "markdown",
   "id": "0ccc68ad",
   "metadata": {},
   "source": [
    "### DESCRIPTION(S)\n",
    "\n",
    "I constructed 14-input MCX using some CCCX and CCCCX gates. The depth of CCCX and CCCCX gates can be reduced because most of them don't require keeping the control qubits in the same state.\n",
    "\n",
    "I used various types of CCX/CCCX/CCCCX gates and connected them to construct a 14-controlled X gate. When minimizing the circuit depth, I tested all possibilities and found my solution."
   ]
  },
  {
   "cell_type": "code",
   "execution_count": null,
   "id": "09219712-3fc9-4371-a207-7ecde2426c6b",
   "metadata": {},
   "outputs": [],
   "source": [
    "import numpy as np\n",
    "\n",
    "# Importing standard Qiskit libraries\n",
    "from qiskit import *\n",
    "from qiskit import QuantumCircuit, transpile, Aer, IBMQ, QuantumRegister\n",
    "from qiskit.tools.jupyter import *\n",
    "from qiskit.visualization import *\n",
    "from ibm_quantum_widgets import *\n",
    "from qiskit.providers.aer import QasmSimulator\n",
    "\n",
    "# Loading your IBM Quantum account(s)\n",
    "provider = IBMQ.load_account()"
   ]
  },
  {
   "cell_type": "code",
   "execution_count": null,
   "id": "c0fe64ba-2fb2-4442-b032-4d1619602fd2",
   "metadata": {},
   "outputs": [],
   "source": [
    "# Reduced Toffoli gate.\n",
    "# This gate doesn't preserve the states of c0 and c1, but can remove unnecessary CNOT gates.\n",
    "def Toffoli_left(qc, c0, c1, t):\n",
    "    qc.h(t)\n",
    "    qc.t(t)\n",
    "    qc.cx(c1, t)\n",
    "    qc.tdg(t)\n",
    "    qc.cx(c0, t)\n",
    "    qc.t(t)\n",
    "    qc.cx(c1, t)\n",
    "    qc.tdg(t)\n",
    "    qc.cx(c0, t)\n",
    "    qc.h(t)\n",
    "    \n",
    "# After Applying Toffoli_left gate, this gate can be used for uncomputation.\n",
    "def Toffoli_right(qc, c0, c1, t):\n",
    "    qc.h(t)\n",
    "    qc.cx(c0, t)\n",
    "    qc.t(t)\n",
    "    qc.cx(c1, t)\n",
    "    qc.tdg(t)\n",
    "    qc.cx(c0, t)\n",
    "    qc.t(t)\n",
    "    qc.cx(c1, t)\n",
    "    qc.tdg(t)\n",
    "    qc.h(t)\n",
    "    \n",
    "def CCX_full(qc, c0, c1, t):\n",
    "    qc.h(t)\n",
    "    qc.cx(c1, t)\n",
    "    qc.tdg(t)\n",
    "    qc.cx(c0, c1)\n",
    "    qc.cx(c0, t)\n",
    "    qc.tdg(c1)\n",
    "    qc.cx(c0, c1)\n",
    "    qc.t(t)\n",
    "    qc.t(c0)\n",
    "    qc.cx(c1, t)\n",
    "    qc.t(c1)\n",
    "    qc.tdg(t)\n",
    "    qc.cx(c0, t)\n",
    "    qc.t(t)\n",
    "    qc.h(t)"
   ]
  },
  {
   "cell_type": "code",
   "execution_count": null,
   "id": "8fc99976-9180-4394-b383-020474a34423",
   "metadata": {},
   "outputs": [],
   "source": [
    "def CCCX_full(qc, c0, c1, c2, t):\n",
    "    qc.h(t)\n",
    "    qc.rz(pi / 8, t)\n",
    "    \n",
    "    qc.cx(c2, c1)\n",
    "    qc.rz(-pi / 8, c1)\n",
    "    qc.cx(c1, t)\n",
    "    qc.cx(c2, t)\n",
    "    qc.cx(c0, c1)\n",
    "    qc.rz(pi / 8, c1)\n",
    "    qc.cx(c0, c1)\n",
    "    \n",
    "    qc.cx(c2, c1)\n",
    "    qc.rz(-pi / 8, t)\n",
    "    qc.cx(c0, t)\n",
    "    qc.rz(pi / 8, t)\n",
    "    qc.cx(c1, t)\n",
    "    qc.rz(-pi / 8, t)\n",
    "    qc.cx(c2, c0)\n",
    "    qc.rz(-pi / 8, c0)\n",
    "    qc.cx(c2, c0)\n",
    "    qc.cx(c2, t)    \n",
    "    qc.rz(pi / 8, c2)\n",
    "    qc.rz(pi / 8, t)\n",
    "    qc.cx(c0, c1)\n",
    "    qc.rz(-pi / 8, c1)\n",
    "    qc.rz(pi / 8, c0)\n",
    "    qc.cx(c0, c1)\n",
    "    qc.cx(c1, t)\n",
    "    qc.rz(-pi / 8, t)\n",
    "    qc.rz(pi / 8, c1)\n",
    "    \n",
    "    qc.cx(c0, t)\n",
    "    qc.rz(pi / 8, t)\n",
    "    qc.cx(c1, t)\n",
    "    qc.rz(-pi / 8, t)\n",
    "    qc.cx(c2, t)\n",
    "    qc.h(t)"
   ]
  },
  {
   "cell_type": "code",
   "execution_count": null,
   "id": "8f008a38-e3d7-492f-8bd2-f8ffe5b344a0",
   "metadata": {},
   "outputs": [],
   "source": [
    "pi = np.pi\n",
    "def CCX(qc, c0, c1, t):\n",
    "    a = pi / 4\n",
    "    qc.ry(a, t)\n",
    "    qc.cx(c1, t)\n",
    "    qc.ry(a, t)\n",
    "    qc.cx(c0, t)\n",
    "    qc.ry(-a, t)\n",
    "    qc.cx(c1, t)\n",
    "    qc.ry(-a, t)\n",
    "    \n",
    "def CCCX(qc, c0, c1, c2, t, mode=\"full\"):\n",
    "    a = pi / 4\n",
    "    qc.ry(a, t)\n",
    "    qc.cx(c2, t)\n",
    "    qc.ry(a, t)\n",
    "    if(mode==\"left\"): Toffoli_left(qc, c0, c1, t)\n",
    "    if(mode==\"right\"): Toffoli_right(qc, c0, c1, t)\n",
    "    if(mode==\"full\"): qc.ccx(c0, c1, t)\n",
    "    qc.ry(-a, t)\n",
    "    qc.cx(c2, t)\n",
    "    qc.ry(-a, t)\n",
    "    \n",
    "def CCCX2(qc, c0, c1, c2, t):\n",
    "    a = pi / 8\n",
    "    qc.ry(a * 3, t)\n",
    "    qc.cx(c2, t)\n",
    "    qc.ry(a, t)\n",
    "    qc.cx(c1, t)\n",
    "    qc.ry(-a, t)\n",
    "    qc.cx(c2, t)\n",
    "    qc.ry(a, t)\n",
    "    qc.cx(c0, t)\n",
    "    qc.ry(-a, t)\n",
    "    qc.cx(c2, t)\n",
    "    qc.ry(a, t)\n",
    "    qc.cx(c1, t)\n",
    "    qc.ry(-a, t)\n",
    "    qc.cx(c2, t)\n",
    "    qc.ry(-a * 3, t)\n",
    "    \n",
    "def CCCCX(qc, c0, c1, c2, c3, t, mode = \"full\"):\n",
    "    a = pi / 8\n",
    "    qc.ry(a * 3, t)\n",
    "    qc.cx(c3, t)\n",
    "    qc.ry(a, t)\n",
    "    qc.cx(c2, t)\n",
    "    qc.ry(-a, t)\n",
    "    qc.cx(c3, t)\n",
    "    qc.ry(a, t)\n",
    "    if(mode==\"left\"): Toffoli_left(qc, c0, c1, t)\n",
    "    if(mode==\"right\"): Toffoli_right(qc, c0, c1, t)\n",
    "    if(mode==\"full\"): qc.ccx(c0, c1, t)\n",
    "    qc.ry(-a, t)\n",
    "    qc.cx(c3, t)\n",
    "    qc.ry(a, t)\n",
    "    qc.cx(c2, t)\n",
    "    qc.ry(-a, t)\n",
    "    qc.cx(c3, t)\n",
    "    qc.ry(-a * 3, t)\n",
    "    \n",
    "def CCCCX2(qc, c0, c1, c2, c3, t, a0):\n",
    "    a = pi / 8\n",
    "    qc.ry(a * 3, t)\n",
    "    qc.cx(c3, t)\n",
    "    qc.ry(a, t)\n",
    "    qc.cx(c2, t)\n",
    "    qc.ry(-a, t)\n",
    "    qc.cx(c3, t)\n",
    "    qc.ry(a, t)\n",
    "    CCX(qc, c0, c1, a0)\n",
    "    qc.cx(a0, t)\n",
    "    CCX(qc, c0, c1, a0)\n",
    "    qc.ry(-a, t)\n",
    "    qc.cx(c3, t)\n",
    "    qc.ry(a, t)\n",
    "    qc.cx(c2, t)\n",
    "    qc.ry(-a, t)\n",
    "    qc.cx(c3, t)\n",
    "    qc.ry(-a * 3, t)"
   ]
  },
  {
   "cell_type": "code",
   "execution_count": null,
   "id": "35624aba-8275-4554-ab97-30017245cea8",
   "metadata": {},
   "outputs": [],
   "source": [
    "X = QuantumRegister(size=14,name=\"x\")\n",
    "Y = QuantumRegister(size=1,name=\"y\")\n",
    "A = QuantumRegister(size=5, name=\"a\")\n",
    "XC = ClassicalRegister(size=14, name=\"xc\")\n",
    "YC = ClassicalRegister(size=1, name=\"yc\")\n",
    "AC = ClassicalRegister(size=5, name=\"ac\")\n",
    "\n",
    "ondebug = True\n",
    "ondebug = False # Enable this line when submitting\n",
    "\n",
    "if(ondebug): QC = QuantumCircuit(X,Y,A,XC,YC,AC)\n",
    "else: QC = QuantumCircuit(X,Y,A)\n",
    "\n",
    "approach = 2\n",
    "\n",
    "# initial state preparation (for checking logical consistancy)\n",
    "if(ondebug):\n",
    "    QC.h(X)\n",
    "    QC.barrier()\n",
    "\n",
    "# state concentration\n",
    "if(approach == 1):\n",
    "    CCCCX2(QC, X[0], X[1], X[2], X[3], A[0], A[4])\n",
    "    CCCCX(QC, X[4], X[5], X[6], X[7], A[1], \"left\")\n",
    "    CCX(QC, A[1], A[0], A[4])\n",
    "    CCCX(QC, X[8], X[9], X[10], A[2], \"left\")\n",
    "    CCCCX(QC, A[2], X[11], X[12], X[13], A[3], \"left\")\n",
    "if(approach == 2):\n",
    "    CCCCX(QC, X[0], X[1], X[2], X[3], A[0], \"left\")\n",
    "    CCCCX2(QC, X[4], X[5], X[6], X[7], A[1], A[4])\n",
    "    CCCX(QC, X[8], X[9], X[10], A[2], \"left\")\n",
    "    CCCCX(QC, A[2], X[11], X[12], X[13], A[3], \"left\")\n",
    "    CCX(QC, A[0], A[1], A[4])\n",
    "    \n",
    "if(ondebug): QC.barrier()\n",
    "\n",
    "# write the result into Y\n",
    "if(approach == 1):\n",
    "    CCX_full(QC, A[3], A[4], Y)\n",
    "if(approach == 2):\n",
    "    CCX_full(QC, A[3], A[4], Y)\n",
    "\n",
    "if(ondebug): QC.barrier()\n",
    "\n",
    "# uncomputation\n",
    "if(approach == 1):\n",
    "    CCCCX(QC, A[2], X[11], X[12], X[13], A[3], \"right\")\n",
    "    CCCX(QC, X[8], X[9], X[10], A[2], \"right\")\n",
    "    CCX(QC, A[1], A[0], A[4])\n",
    "    CCCCX(QC, X[4], X[5], X[6], X[7], A[1], \"right\")\n",
    "    CCCCX2(QC, X[0], X[1], X[2], X[3], A[0], A[4])\n",
    "if(approach == 2):\n",
    "    CCX(QC, A[0], A[1], A[4])\n",
    "    CCCCX(QC, A[2], X[11], X[12], X[13], A[3], \"right\")\n",
    "    CCCX(QC, X[8], X[9], X[10], A[2], \"right\")\n",
    "    CCCCX2(QC, X[4], X[5], X[6], X[7], A[1], A[4])\n",
    "    CCCCX(QC, X[0], X[1], X[2], X[3], A[0], \"right\")\n",
    "    \n",
    "# measure\n",
    "if(ondebug):\n",
    "    QC.barrier()\n",
    "    QC.measure(X, XC)\n",
    "    QC.measure(Y, YC)\n",
    "    QC.measure(A, AC)\n",
    "\n",
    "#draw\n",
    "QC.draw()"
   ]
  },
  {
   "cell_type": "code",
   "execution_count": null,
   "id": "df1f757f-0359-47ea-961d-5f6fedc42bf0",
   "metadata": {},
   "outputs": [],
   "source": [
    "from qiskit import transpile\n",
    "# QC = transpile(QC, basis_gates=['h', 't', 'tdg', 'rz', 'cx'])\n",
    "QC = transpile(QC, basis_gates=['u', 'cx'])\n",
    "print(\"depth = \" + str(QC.depth()))\n",
    "print(\"gate count = \" + str(QC.count_ops()))\n",
    "\n",
    "if(ondebug):\n",
    "    backend_sim = Aer.get_backend('qasm_simulator')\n",
    "    job_sim = backend_sim.run(transpile(QC, backend_sim), shots=65536)\n",
    "    result_sim = job_sim.result()\n",
    "    counts = result_sim.get_counts(QC)\n",
    "    \n",
    "    dx, dy, da = {}, {}, {}\n",
    "    for k, v in counts.items():\n",
    "        _sa, _sy, _sx = k.split()\n",
    "        sx, sy, sa = _sx[::-1], _sy[::-1], _sa[::-1]\n",
    "        if(\"0\" in sx):\n",
    "            sx = \"\".join([\"0\"] * len(sx))\n",
    "\n",
    "        dx.setdefault(sx, 0)\n",
    "        dy.setdefault(sy, 0)\n",
    "        da.setdefault(sa, 0)\n",
    "        dx[sx] += v\n",
    "        dy[sy] += v\n",
    "        da[sa] += v\n",
    "        if(\"0\" not in sx and sy == \"0\"):\n",
    "            print('sx == \"111...1\" && sy == \"0\"')\n",
    "        if(\"0\" in sx and sy == \"1\"):\n",
    "            print('sx != \"111...1\" && sy == \"1\"')\n",
    "\n",
    "    print(\"dx = \" + str(dx))\n",
    "    print(\"dy = \" + str(dy))\n",
    "    print(\"da = \" + str(da))\n",
    "\n",
    "QC.draw()"
   ]
  },
  {
   "cell_type": "code",
   "execution_count": null,
   "id": "90aaef07-569e-49ac-b9c6-d436c9c4b0f0",
   "metadata": {},
   "outputs": [],
   "source": [
    "# submission\n",
    "QC.qasm(formatted = True)"
   ]
  },
  {
   "cell_type": "code",
   "execution_count": null,
   "id": "ca4372dd-272d-4309-95e2-e5dc33824b2e",
   "metadata": {},
   "outputs": [],
   "source": [
    "# # in debug\n",
    "# depth = 61\n",
    "# gate count = OrderedDict([('u', 116), ('cx', 90), ('measure', 20), ('barrier', 4)])\n",
    "# dx = {'00000000000000': 65530, '11111111111111': 6}\n",
    "# dy = {'0': 65530, '1': 6}\n",
    "# da = {'00000': 65536}\n",
    "\n",
    "# # submission\n",
    "# depth = 57\n",
    "# gate count = OrderedDict([('u', 101), ('cx', 90)])"
   ]
  },
  {
   "cell_type": "code",
   "execution_count": null,
   "id": "5f7db1d9",
   "metadata": {},
   "outputs": [],
   "source": []
  }
 ],
 "metadata": {
  "kernelspec": {
   "display_name": "Python 3 (ipykernel)",
   "language": "python",
   "name": "python3"
  },
  "language_info": {
   "codemirror_mode": {
    "name": "ipython",
    "version": 3
   },
   "file_extension": ".py",
   "mimetype": "text/x-python",
   "name": "python",
   "nbconvert_exporter": "python",
   "pygments_lexer": "ipython3",
   "version": "3.9.7"
  },
  "widgets": {
   "application/vnd.jupyter.widget-state+json": {
    "state": {
     "09cbbb5ecbb94c2997649f8fa06a8b20": {
      "model_module": "@jupyter-widgets/base",
      "model_module_version": "1.2.0",
      "model_name": "LayoutModel",
      "state": {
       "width": "190px"
      }
     },
     "0b98d1a7f99743a994ae6e434a0a409c": {
      "model_module": "@jupyter-widgets/controls",
      "model_module_version": "1.5.0",
      "model_name": "HTMLModel",
      "state": {
       "layout": "IPY_MODEL_09cbbb5ecbb94c2997649f8fa06a8b20",
       "style": "IPY_MODEL_19528ff4453749a6b64d294ba709f6f4",
       "value": "<h5>Job ID</h5>"
      }
     },
     "146d6f8ffb8b438a96a463a5e153c70a": {
      "model_module": "@jupyter-widgets/controls",
      "model_module_version": "1.5.0",
      "model_name": "DescriptionStyleModel",
      "state": {
       "description_width": ""
      }
     },
     "19528ff4453749a6b64d294ba709f6f4": {
      "model_module": "@jupyter-widgets/controls",
      "model_module_version": "1.5.0",
      "model_name": "DescriptionStyleModel",
      "state": {
       "description_width": ""
      }
     },
     "250a61ab85a34734a33d62bb4a12d8b7": {
      "model_module": "@jupyter-widgets/controls",
      "model_module_version": "1.5.0",
      "model_name": "HTMLModel",
      "state": {
       "layout": "IPY_MODEL_27e3ee146d9a465eaa037bbdb9ead79a",
       "style": "IPY_MODEL_cbb6e4a8ab344828ae9b71ed35210c0b",
       "value": "<h5>Status</h5>"
      }
     },
     "27e3ee146d9a465eaa037bbdb9ead79a": {
      "model_module": "@jupyter-widgets/base",
      "model_module_version": "1.2.0",
      "model_name": "LayoutModel",
      "state": {
       "width": "95px"
      }
     },
     "4a278f0a9b324cefa8aa9397b6ea940c": {
      "model_module": "@jupyter-widgets/controls",
      "model_module_version": "1.5.0",
      "model_name": "GridBoxModel",
      "state": {
       "children": [
        "IPY_MODEL_d5afa448a7c4401380d1048f420f6d10"
       ],
       "layout": "IPY_MODEL_5c62182aac2f4b70a47c54c5a600e434"
      }
     },
     "56c5f3e1999641c89a86f1cc2e2292bc": {
      "model_module": "@jupyter-widgets/controls",
      "model_module_version": "1.5.0",
      "model_name": "DescriptionStyleModel",
      "state": {
       "description_width": ""
      }
     },
     "5b6aa851f1b045ef8c548a3ec0716747": {
      "model_module": "@jupyter-widgets/controls",
      "model_module_version": "1.5.0",
      "model_name": "ButtonStyleModel",
      "state": {}
     },
     "5c62182aac2f4b70a47c54c5a600e434": {
      "model_module": "@jupyter-widgets/base",
      "model_module_version": "1.2.0",
      "model_name": "LayoutModel",
      "state": {
       "grid_template_areas": "\n                                       \". . . . right \"\n                                        ",
       "grid_template_columns": "20% 20% 20% 20% 20%",
       "width": "100%"
      }
     },
     "683585b1e2e34c0da6f9b6a05f68fafb": {
      "model_module": "@jupyter-widgets/controls",
      "model_module_version": "1.5.0",
      "model_name": "HTMLModel",
      "state": {
       "layout": "IPY_MODEL_beccb1f43c1e434ab36e285f7b3e33cf",
       "style": "IPY_MODEL_56c5f3e1999641c89a86f1cc2e2292bc",
       "value": "<h5>Queue</h5>"
      }
     },
     "7af7fbd86a6a483b914781a38036adba": {
      "model_module": "@jupyter-widgets/controls",
      "model_module_version": "1.5.0",
      "model_name": "DescriptionStyleModel",
      "state": {
       "description_width": ""
      }
     },
     "82c40dde7c754f38aebfcfdf436c3d5f": {
      "model_module": "@jupyter-widgets/controls",
      "model_module_version": "1.5.0",
      "model_name": "HBoxModel",
      "state": {
       "children": [
        "IPY_MODEL_0b98d1a7f99743a994ae6e434a0a409c",
        "IPY_MODEL_dd5365bee37e4fa4a398da6ffcd7106d",
        "IPY_MODEL_250a61ab85a34734a33d62bb4a12d8b7",
        "IPY_MODEL_683585b1e2e34c0da6f9b6a05f68fafb",
        "IPY_MODEL_f8884edbac574a839aba3f192c93bd00"
       ],
       "layout": "IPY_MODEL_9b022d81425342988c52dde01a22bf2d"
      }
     },
     "9b022d81425342988c52dde01a22bf2d": {
      "model_module": "@jupyter-widgets/base",
      "model_module_version": "1.2.0",
      "model_name": "LayoutModel",
      "state": {
       "margin": "0px 0px 0px 37px",
       "width": "600px"
      }
     },
     "ae9d96a8cbb145e08dc580fedfa530be": {
      "model_module": "@jupyter-widgets/base",
      "model_module_version": "1.2.0",
      "model_name": "LayoutModel",
      "state": {
       "grid_area": "right",
       "padding": "0px 0px 0px 0px",
       "width": "70px"
      }
     },
     "beccb1f43c1e434ab36e285f7b3e33cf": {
      "model_module": "@jupyter-widgets/base",
      "model_module_version": "1.2.0",
      "model_name": "LayoutModel",
      "state": {
       "width": "70px"
      }
     },
     "c007057b23e14d1e896e881f9beb699a": {
      "model_module": "@jupyter-widgets/base",
      "model_module_version": "1.2.0",
      "model_name": "LayoutModel",
      "state": {}
     },
     "cbb6e4a8ab344828ae9b71ed35210c0b": {
      "model_module": "@jupyter-widgets/controls",
      "model_module_version": "1.5.0",
      "model_name": "DescriptionStyleModel",
      "state": {
       "description_width": ""
      }
     },
     "d5afa448a7c4401380d1048f420f6d10": {
      "model_module": "@jupyter-widgets/controls",
      "model_module_version": "1.5.0",
      "model_name": "ButtonModel",
      "state": {
       "button_style": "primary",
       "description": "Clear",
       "layout": "IPY_MODEL_ae9d96a8cbb145e08dc580fedfa530be",
       "style": "IPY_MODEL_5b6aa851f1b045ef8c548a3ec0716747"
      }
     },
     "dcd643195d4848f6b234cb1b41e38446": {
      "model_module": "@jupyter-widgets/controls",
      "model_module_version": "1.5.0",
      "model_name": "DescriptionStyleModel",
      "state": {
       "description_width": ""
      }
     },
     "dd5365bee37e4fa4a398da6ffcd7106d": {
      "model_module": "@jupyter-widgets/controls",
      "model_module_version": "1.5.0",
      "model_name": "HTMLModel",
      "state": {
       "layout": "IPY_MODEL_ffc9c5c0279547d48abc02f7e59aa292",
       "style": "IPY_MODEL_7af7fbd86a6a483b914781a38036adba",
       "value": "<h5>Backend</h5>"
      }
     },
     "df91c78e7ff74a6bb42f77b71e2f7876": {
      "model_module": "@jupyter-widgets/base",
      "model_module_version": "1.2.0",
      "model_name": "LayoutModel",
      "state": {
       "margin": "0px 0px 10px 0px"
      }
     },
     "f056bb4c4b764bda85d258350badfec2": {
      "model_module": "@jupyter-widgets/controls",
      "model_module_version": "1.5.0",
      "model_name": "HTMLModel",
      "state": {
       "layout": "IPY_MODEL_df91c78e7ff74a6bb42f77b71e2f7876",
       "style": "IPY_MODEL_dcd643195d4848f6b234cb1b41e38446",
       "value": "<p style='font-family: IBM Plex Sans, Arial, Helvetica, sans-serif; font-size: 20px; font-weight: medium;'>Circuit Properties</p>"
      }
     },
     "f8884edbac574a839aba3f192c93bd00": {
      "model_module": "@jupyter-widgets/controls",
      "model_module_version": "1.5.0",
      "model_name": "HTMLModel",
      "state": {
       "layout": "IPY_MODEL_c007057b23e14d1e896e881f9beb699a",
       "style": "IPY_MODEL_146d6f8ffb8b438a96a463a5e153c70a",
       "value": "<h5>Message</h5>"
      }
     },
     "ffc9c5c0279547d48abc02f7e59aa292": {
      "model_module": "@jupyter-widgets/base",
      "model_module_version": "1.2.0",
      "model_name": "LayoutModel",
      "state": {
       "width": "145px"
      }
     }
    },
    "version_major": 2,
    "version_minor": 0
   }
  }
 },
 "nbformat": 4,
 "nbformat_minor": 5
}
