{
 "cells": [
  {
   "cell_type": "markdown",
   "id": "27547521",
   "metadata": {},
   "source": [
    "# Hamiltonian Exponentiation - 2nd Place Konrad Deka, Poland\n",
    "\n",
    "Below is code and methodology from the second place solution to the Spring 2022 Classiq Coding Competition. \n",
    "\n",
    "\n",
    "\n"
   ]
  },
  {
   "cell_type": "markdown",
   "id": "57fb73d3",
   "metadata": {},
   "source": [
    "## Submission Description\n",
    "\n",
    "Main concepts used are: (1) Trotterization, (2) Sorting terms of the Hamiltonian by absolute value of the coefficient, and ignoring some of the smallest terms, (3) Reordering terms of the Hamiltonian to lower circuit depth, More detailed description can be found in comments in the Python file."
   ]
  },
  {
   "cell_type": "code",
   "execution_count": 1,
   "id": "3a8c4fb1",
   "metadata": {},
   "outputs": [
    {
     "ename": "FileNotFoundError",
     "evalue": "[Errno 2] No such file or directory: './hamiltonian_string_raw.txt'",
     "output_type": "error",
     "traceback": [
      "\u001b[0;31m---------------------------------------------------------------------------\u001b[0m",
      "\u001b[0;31mFileNotFoundError\u001b[0m                         Traceback (most recent call last)",
      "\u001b[1;32m/home/sangru/Videos/Classsiq competition - solutions/Hamiltonian_Second.ipynb Cell 3\u001b[0m in \u001b[0;36m<cell line: 14>\u001b[0;34m()\u001b[0m\n\u001b[1;32m     <a href='vscode-notebook-cell:/home/sangru/Videos/Classsiq%20competition%20-%20solutions/Hamiltonian_Second.ipynb#ch0000002?line=9'>10</a>\u001b[0m \u001b[39m######## Reading the data\u001b[39;00m\n\u001b[1;32m     <a href='vscode-notebook-cell:/home/sangru/Videos/Classsiq%20competition%20-%20solutions/Hamiltonian_Second.ipynb#ch0000002?line=10'>11</a>\u001b[0m \u001b[39m# './hamiltonian_string_raw.txt' should contain the Hamiltonian\u001b[39;00m\n\u001b[1;32m     <a href='vscode-notebook-cell:/home/sangru/Videos/Classsiq%20competition%20-%20solutions/Hamiltonian_Second.ipynb#ch0000002?line=11'>12</a>\u001b[0m \u001b[39m# posted to the competition forum\u001b[39;00m\n\u001b[1;32m     <a href='vscode-notebook-cell:/home/sangru/Videos/Classsiq%20competition%20-%20solutions/Hamiltonian_Second.ipynb#ch0000002?line=12'>13</a>\u001b[0m hamiltonian_terms \u001b[39m=\u001b[39m []\n\u001b[0;32m---> <a href='vscode-notebook-cell:/home/sangru/Videos/Classsiq%20competition%20-%20solutions/Hamiltonian_Second.ipynb#ch0000002?line=13'>14</a>\u001b[0m \u001b[39mwith\u001b[39;00m \u001b[39mopen\u001b[39;49m(\u001b[39m'\u001b[39;49m\u001b[39m./hamiltonian_string_raw.txt\u001b[39;49m\u001b[39m'\u001b[39;49m, \u001b[39m'\u001b[39;49m\u001b[39mr\u001b[39;49m\u001b[39m'\u001b[39;49m) \u001b[39mas\u001b[39;00m f:\n\u001b[1;32m     <a href='vscode-notebook-cell:/home/sangru/Videos/Classsiq%20competition%20-%20solutions/Hamiltonian_Second.ipynb#ch0000002?line=14'>15</a>\u001b[0m     \u001b[39mfor\u001b[39;00m line \u001b[39min\u001b[39;00m f:\n\u001b[1;32m     <a href='vscode-notebook-cell:/home/sangru/Videos/Classsiq%20competition%20-%20solutions/Hamiltonian_Second.ipynb#ch0000002?line=15'>16</a>\u001b[0m         line_remove_newlines \u001b[39m=\u001b[39m line\u001b[39m.\u001b[39mreplace(\u001b[39m'\u001b[39m\u001b[39m\\n\u001b[39;00m\u001b[39m'\u001b[39m, \u001b[39m'\u001b[39m\u001b[39m'\u001b[39m)\n",
      "\u001b[0;31mFileNotFoundError\u001b[0m: [Errno 2] No such file or directory: './hamiltonian_string_raw.txt'"
     ]
    }
   ],
   "source": [
    "import numpy as np\n",
    "import qiskit\n",
    "import scipy\n",
    "from scipy import linalg\n",
    "from qiskit.quantum_info import SparsePauliOp, Operator, Pauli\n",
    "from qiskit.circuit.library import PauliEvolutionGate\n",
    "from qiskit.synthesis import LieTrotter, SuzukiTrotter\n",
    "from qiskit import transpile\n",
    "\n",
    "######## Reading the data\n",
    "# './hamiltonian_string_raw.txt' should contain the Hamiltonian\n",
    "# posted to the competition forum\n",
    "hamiltonian_terms = []\n",
    "with open('./hamiltonian_string_raw.txt', 'r') as f:\n",
    "    for line in f:\n",
    "        line_remove_newlines = line.replace('\\n', '')\n",
    "        line_remove_spaces = ''.join(line_remove_newlines.split(' '))\n",
    "        if line_remove_spaces == '':\n",
    "            continue\n",
    "        line_items = line_remove_spaces.split('*')\n",
    "        assert len(line_items) == 2\n",
    "        coef, pauli_term = line_items\n",
    "        hamiltonian_terms.append((float(coef), pauli_term))\n",
    "\n",
    "######## Sort by absolute value of the coefficient.\n",
    "# Terms with high absolute value of the coefficient are more important\n",
    "\n",
    "hamiltonian_terms.sort(key=lambda term: abs(term[0]))\n",
    "for term in hamiltonian_terms:\n",
    "    print(term[0], '\\t', term[1])\n",
    "print(f'Hamiltonian has {len(hamiltonian_terms)} terms')\n",
    "\n",
    "######## Compute U_perfect := the ideal unitary that we should simulate\n",
    "H = SparsePauliOp.from_list([(item[1], item[0]) for item in hamiltonian_terms])\n",
    "U_perfect = scipy.linalg.expm(-1j * H.to_matrix())\n",
    "\n",
    "######## Divide the hamiltonian into two parts:\n",
    "# Z_part, which contains terms with Paulis made up only from I and Z operators\n",
    "# R_part, which contains all the rest\n",
    "Z_part = SparsePauliOp.from_list([(item[1], item[0]) for item in hamiltonian_terms if 'X' not in item[1] and 'Y' not in item[1]])\n",
    "R_part = SparsePauliOp.from_list([(item[1], item[0]) for item in hamiltonian_terms if 'X' in item[1] or 'Y' in item[1]])\n",
    "\n",
    "######## Helper function which takes a SparsePauliOp, time t, \n",
    "# and returns a circuit that trotterizes the e^-it*sparsepauliop\n",
    "def firstorder(sparsepauliop, t):\n",
    "    UT = PauliEvolutionGate(sparsepauliop, t)\n",
    "    trotter = LieTrotter(reps=1, cx_structure='fountain')\n",
    "    return trotter.synthesize(UT)\n",
    "\n",
    "######## A greedy sorter for a SparsePauliOp.\n",
    "# Say, we have some Pauli terms IXXII, IIIZX. Then they can be trotterized efficiently,\n",
    "# i.e. each works on different set of qubits so they can be executed in parallel.\n",
    "# We try to order the terms so that such occurences are maximized.\n",
    "def greedy_sorter(sparsepauliop):\n",
    "    s = list(item for item in sparsepauliop)\n",
    "    new_order = []\n",
    "    while len(s) > 0:\n",
    "        coll = []\n",
    "        coll_used = set()\n",
    "        added = True\n",
    "        while added:\n",
    "            added = False\n",
    "            for item in s:\n",
    "                item_pauli = item.paulis[0]\n",
    "                item_used = set(i for i in range(len(item_pauli)) if item_pauli[i] != Pauli('I'))\n",
    "                if len(coll_used.intersection(item_used)) == 0:\n",
    "                    coll.append(item)\n",
    "                    coll_used = coll_used.union(item_used)\n",
    "                    s.remove(item)\n",
    "                    added = True\n",
    "        new_order = new_order + coll\n",
    "    ret = new_order[0]\n",
    "    for j in range(1, len(new_order)):\n",
    "        ret = ret + new_order[j]\n",
    "    return ret\n",
    "\n",
    "######## Let us define two smaller circuits:\n",
    "# Z_part_evol_half = a circuit that implements the unitary e^-0.5*Z_part\n",
    "# R_part_evol_one = a circuit that trotterizes all the R_parts\n",
    "# The final circuit will consist of three parts:\n",
    "# (Z_part_evol_half) (R_part_evol_one) (Z_part_evol_half)\n",
    "# It turns out that such circuit achieves an accuracy well below the required 0.1 threshold.\n",
    "# So we simply ignore the terms from R_part with lowest abs. value of the coefficient,\n",
    "# losing some of the precision but making the circuit shorter.\n",
    "Z_part_evol_half = firstorder(greedy_sorter(Z_part), 0.5)\n",
    "R_part_evol_one = firstorder(greedy_sorter(R_part[120:]), 1)\n",
    "circ = Z_part_evol_half.compose(R_part_evol_one).compose(Z_part_evol_half)\n",
    "circ_transpiled = transpile(circ, optimization_level=2, basis_gates=['x', 'y', 'z', 'rz', 'ry', 'rx', 'h', 'u', 'cx'])\n",
    "circ_transpiled.qasm(filename='./solution.qasm')\n",
    "\n",
    "######## Finally, we will check the precision of the produced circuit.\n",
    "circ_loaded = qiskit.QuantumCircuit.from_qasm_file('./solution.qasm')\n",
    "U = np.asmatrix(qiskit.quantum_info.Operator(circ_loaded))\n",
    "\n",
    "# Note that special care must be taken, since transpiling to QASM in qiskit\n",
    "# messes up the global phase. \n",
    "assert np.allclose(abs(U[0, 0]), 1)\n",
    "U_fixed_phase = U / U[0, 0]\n",
    "print(f\"Operator norm error: {np.linalg.norm(U_perfect - U_fixed_phase, ord=2)}\")\n",
    "print(f\"Circuit depth: {circ_loaded.depth()}\")\n",
    "\n",
    "# Results of the run:\n",
    "# Operator norm error: 0.0986\n",
    "# Circuit depth: 697\n"
   ]
  },
  {
   "cell_type": "code",
   "execution_count": null,
   "id": "28fac039",
   "metadata": {},
   "outputs": [],
   "source": []
  }
 ],
 "metadata": {
  "kernelspec": {
   "display_name": "Python 3.8.10 64-bit",
   "language": "python",
   "name": "python3"
  },
  "language_info": {
   "codemirror_mode": {
    "name": "ipython",
    "version": 3
   },
   "file_extension": ".py",
   "mimetype": "text/x-python",
   "name": "python",
   "nbconvert_exporter": "python",
   "pygments_lexer": "ipython3",
   "version": "3.8.10"
  },
  "vscode": {
   "interpreter": {
    "hash": "916dbcbb3f70747c44a77c7bcd40155683ae19c65e1c03b4aa3499c5328201f1"
   }
  }
 },
 "nbformat": 4,
 "nbformat_minor": 5
}
