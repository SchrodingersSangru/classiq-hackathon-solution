{
 "cells": [
  {
   "cell_type": "markdown",
   "metadata": {},
   "source": [
    "# Hamiltonian Exponentiation - 3rd Place Janczar Knurek, Poland\n",
    "\n",
    "Below is code and methodology from the third place solution to the Spring 2022 Classiq Coding Competition. \n",
    "\n"
   ]
  },
  {
   "cell_type": "markdown",
   "metadata": {},
   "source": [
    "## Submission Description\n",
    "First I sort the hamiltonian by absolute value of coefficients. I remove some of them (the smallest). To simulate I use a variation of the second-order trotter formula, but i do not split the hamiltonian in half, rather i split only the largest summands in half. I tried to reimplement ZZZZ gates by choosing the head of the fountain at random, but it achieved worse results than choosing always the highest qubit. I came up with an idea that choosing the same fountain head in neighbouring gates allows more cancellation, so i implemented it and it saved circa 60 depth."
   ]
  },
  {
   "cell_type": "code",
   "execution_count": 1,
   "metadata": {},
   "outputs": [],
   "source": [
    "from qiskit.opflow import *\n",
    "\n",
    "from qiskit.quantum_info import Pauli\n",
    "\n",
    "def _read_ham(filename):\n",
    "    with open(filename) as input_file:\n",
    "        lines = [x for x in input_file.readlines() if x != \"\" and x != \"\\n\"]\n",
    "        lines[0] = \"+ \" + lines[0]\n",
    "    for line in lines:\n",
    "        sgn, coeff, _, pauli = line.split()\n",
    "        coeff = float(coeff) if sgn == \"+\" else -float(coeff)\n",
    "        op = PauliOp(Pauli(pauli), coeff)\n",
    "        yield op\n"
   ]
  },
  {
   "cell_type": "code",
   "execution_count": 2,
   "metadata": {},
   "outputs": [],
   "source": [
    "def dist(A, B):\n",
    "    return np.linalg.norm(A - B, ord=2)"
   ]
  },
  {
   "cell_type": "code",
   "execution_count": 3,
   "metadata": {},
   "outputs": [],
   "source": [
    "raw_hamiltonian = list(_read_ham(\"input.txt\"))\n",
    "\n",
    "target_U = sum(raw_hamiltonian).exp_i().to_matrix()\n",
    "\n",
    "sorted_hamiltonian = sorted(raw_hamiltonian, key=lambda x: abs(x.coeff))\n",
    "\n",
    "trimmed_hamiltonian = sum(sorted_hamiltonian[80:-1])"
   ]
  },
  {
   "cell_type": "code",
   "execution_count": 4,
   "metadata": {},
   "outputs": [
    {
     "name": "stdout",
     "output_type": "stream",
     "text": [
      "(<qiskit.circuit.quantumcircuit.QuantumCircuit object at 0x7f60efc631f0>, 0)\n"
     ]
    },
    {
     "name": "stderr",
     "output_type": "stream",
     "text": [
      "<ipython-input-4-fb5e9e2181bb>:75: DeprecationWarning: SuzukiTrotter for odd orders is deprecated as of 0.20.0, and will be removed no earlier than 3 months after that release date. Suzuki product formulae are symmetric and therefore only defined for evenorders.\n",
      "  suzuki = SuzukiTrotter(order=1, reps=1, atomic_evolution=FountainMaker())\n"
     ]
    },
    {
     "name": "stdout",
     "output_type": "stream",
     "text": [
      "BEST! len(circ)=1341, circ.depth()=775 distance=0.09834909498911042\n"
     ]
    }
   ],
   "source": [
    "import qiskit\n",
    "from qiskit import QuantumCircuit, transpile\n",
    "import qiskit.synthesis\n",
    "from qiskit.synthesis import SuzukiTrotter\n",
    "from qiskit.circuit.library import PauliEvolutionGate\n",
    "\n",
    "from qiskit.quantum_info import Pauli\n",
    "from random import choice, shuffle\n",
    "\n",
    "from numpy import trace\n",
    "\n",
    "from qiskit import execute\n",
    "from qiskit import Aer\n",
    "\n",
    "import numpy as np\n",
    "\n",
    "from numpy.random import permutation\n",
    "\n",
    "def _make_random_fountain(pauli: Pauli, w, previous=None):\n",
    "    \n",
    "    qc = QuantumCircuit(len(pauli))\n",
    "    nontrivials = [i for i, p in enumerate(pauli) if p != Pauli(\"I\")]\n",
    "    if not nontrivials:\n",
    "        return qc\n",
    "    if previous is not None and previous in nontrivials:\n",
    "        target_qubit = previous\n",
    "    else:\n",
    "        target_qubit = nontrivials[0]\n",
    "    diag = QuantumCircuit(len(pauli))\n",
    "    for i in nontrivials:\n",
    "        if pauli[i] == Pauli('X'):\n",
    "            diag.sdg(i)\n",
    "        if pauli[i] in [Pauli('Y'), Pauli('X')]:\n",
    "            diag.h(i)\n",
    "    qc = qc.compose(diag)\n",
    "    for i in nontrivials:\n",
    "        if i != target_qubit:\n",
    "            qc.cx(i, target_qubit)\n",
    "    qc.rz(w * 2, target_qubit)\n",
    "    for i in nontrivials:\n",
    "        if i != target_qubit:\n",
    "            qc.cx(i, target_qubit)\n",
    "    qc = qc.compose(diag.inverse())\n",
    "    return qc, target_qubit\n",
    "\n",
    "class FountainMaker:\n",
    "    \n",
    "    def __init__(self):\n",
    "        self.history = [None]\n",
    "    \n",
    "    def __call__(self, pauli: Pauli, w):\n",
    "        result, target_qubit =  _make_random_fountain(pauli, w, self.history[-1])\n",
    "        self.history.append(target_qubit)\n",
    "        return result\n",
    "\n",
    "print(_make_random_fountain(Pauli(\"XZY\"), 0.5))\n",
    "\n",
    "# tmp_h = list(Hx)\n",
    "# shuffle(tmp_h)\n",
    "# print(tmp_h)\n",
    "\n",
    "# Hxx = sum(tmp_h)\n",
    "\n",
    "def su_dist(U, Ul):\n",
    "    λ = trace(Ul.conj().T @ U) / 1024\n",
    "    return dist(λ * Ul, U)\n",
    "\n",
    "def other_su_dist(U, Ul):\n",
    "    return dist(U / U[0,0], Ul / Ul[0, 0])\n",
    "\n",
    "def run_experiments(H, times=10):\n",
    "    results = []\n",
    "    \n",
    "    for i in range(times):\n",
    "        suzuki = SuzukiTrotter(order=1, reps=1, atomic_evolution=FountainMaker())\n",
    "#         suzuki = SuzukiTrotter(order=1, reps=1, cx_structure='fountain')\n",
    "        H1t = PauliEvolutionGate(H[130:] / 2, 1.0)\n",
    "        H2t = PauliEvolutionGate(H[:130], 1)\n",
    "        res1 = suzuki.synthesize(H1t)\n",
    "        res2 = suzuki.synthesize(H2t)\n",
    "        \n",
    "        qc1 = res1\n",
    "        qc1 = qc1.compose(res2)\n",
    "        qc1 = qc1.compose(res1)\n",
    "        circ = transpile(qc1, optimization_level=3, basis_gates=['u3', 'cx'])\n",
    "        if circ.depth() < min(results, key=lambda x: x[0], default=(10000, 0))[0]:\n",
    "            print(\"BEST! \", end='')\n",
    "        results.append((circ.depth(), circ))\n",
    "        print(f\"{len(circ)=}, {circ.depth()=}\", end='')\n",
    "        res = execute(circ, backend=Aer.get_backend('unitary_simulator'))\n",
    "        Ul = np.asarray(res.result().get_unitary())\n",
    "        print(f\" distance={su_dist(target_U, Ul)}\")\n",
    "        tmp_h = list(H)\n",
    "        tmp_h = H[40:] + H[:40]\n",
    "        H = sum(tmp_h)\n",
    "    return results\n",
    "        \n",
    "results = run_experiments(trimmed_hamiltonian[30:], 1)\n",
    "        "
   ]
  },
  {
   "cell_type": "code",
   "execution_count": 6,
   "metadata": {},
   "outputs": [],
   "source": [
    "good_circuit = results[0][1]\n",
    "print(good_circuit.qasm(), file=open(\"result.qasm\", 'w'))"
   ]
  }
 ],
 "metadata": {
  "kernelspec": {
   "display_name": "Python 3 (ipykernel)",
   "language": "python",
   "name": "python3"
  },
  "language_info": {
   "codemirror_mode": {
    "name": "ipython",
    "version": 3
   },
   "file_extension": ".py",
   "mimetype": "text/x-python",
   "name": "python",
   "nbconvert_exporter": "python",
   "pygments_lexer": "ipython3",
   "version": "3.10.4"
  }
 },
 "nbformat": 4,
 "nbformat_minor": 4
}
